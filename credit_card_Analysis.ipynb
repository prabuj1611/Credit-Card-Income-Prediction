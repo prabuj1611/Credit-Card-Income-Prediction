{
 "cells": [
  {
   "cell_type": "markdown",
   "metadata": {},
   "source": [
    "# **Simple Linear Regression**"
   ]
  },
  {
   "cell_type": "code",
   "execution_count": 42,
   "metadata": {},
   "outputs": [],
   "source": [
    "# Loading libraries:\n",
    "\n",
    "import numpy as np\n",
    "import pandas as pd\n",
    "import seaborn as sns\n",
    "from scipy import stats\n",
    "import statsmodels.api as sm\n",
    "import matplotlib.pyplot as plt\n",
    "from scipy.stats import pearsonr\n",
    "from sklearn.linear_model import LinearRegression\n",
    "from sklearn.model_selection import train_test_split\n",
    "from sklearn.metrics import mean_absolute_error, mean_squared_error, r2_score"
   ]
  },
  {
   "cell_type": "markdown",
   "metadata": {},
   "source": [
    "**Reading the file using pandas.**"
   ]
  },
  {
   "cell_type": "code",
   "execution_count": 43,
   "metadata": {},
   "outputs": [],
   "source": [
    "df = pd.read_csv(\"CreditCard.csv\")"
   ]
  },
  {
   "cell_type": "markdown",
   "metadata": {},
   "source": [
    "**Describing the dataset**"
   ]
  },
  {
   "cell_type": "code",
   "execution_count": 44,
   "metadata": {},
   "outputs": [
    {
     "data": {
      "text/html": [
       "<div>\n",
       "<style scoped>\n",
       "    .dataframe tbody tr th:only-of-type {\n",
       "        vertical-align: middle;\n",
       "    }\n",
       "\n",
       "    .dataframe tbody tr th {\n",
       "        vertical-align: top;\n",
       "    }\n",
       "\n",
       "    .dataframe thead th {\n",
       "        text-align: right;\n",
       "    }\n",
       "</style>\n",
       "<table border=\"1\" class=\"dataframe\">\n",
       "  <thead>\n",
       "    <tr style=\"text-align: right;\">\n",
       "      <th></th>\n",
       "      <th>rownames</th>\n",
       "      <th>reports</th>\n",
       "      <th>age</th>\n",
       "      <th>income</th>\n",
       "      <th>share</th>\n",
       "      <th>expenditure</th>\n",
       "      <th>dependents</th>\n",
       "      <th>months</th>\n",
       "      <th>majorcards</th>\n",
       "      <th>active</th>\n",
       "    </tr>\n",
       "  </thead>\n",
       "  <tbody>\n",
       "    <tr>\n",
       "      <th>count</th>\n",
       "      <td>1319.000000</td>\n",
       "      <td>1319.000000</td>\n",
       "      <td>1319.000000</td>\n",
       "      <td>1319.000000</td>\n",
       "      <td>1319.000000</td>\n",
       "      <td>1319.000000</td>\n",
       "      <td>1319.000000</td>\n",
       "      <td>1319.000000</td>\n",
       "      <td>1319.000000</td>\n",
       "      <td>1319.000000</td>\n",
       "    </tr>\n",
       "    <tr>\n",
       "      <th>mean</th>\n",
       "      <td>660.000000</td>\n",
       "      <td>0.456406</td>\n",
       "      <td>33.213103</td>\n",
       "      <td>3.365376</td>\n",
       "      <td>0.068732</td>\n",
       "      <td>185.057071</td>\n",
       "      <td>0.993935</td>\n",
       "      <td>55.267627</td>\n",
       "      <td>0.817286</td>\n",
       "      <td>6.996967</td>\n",
       "    </tr>\n",
       "    <tr>\n",
       "      <th>std</th>\n",
       "      <td>380.906813</td>\n",
       "      <td>1.345267</td>\n",
       "      <td>10.142783</td>\n",
       "      <td>1.693902</td>\n",
       "      <td>0.094656</td>\n",
       "      <td>272.218917</td>\n",
       "      <td>1.247745</td>\n",
       "      <td>66.271746</td>\n",
       "      <td>0.386579</td>\n",
       "      <td>6.305812</td>\n",
       "    </tr>\n",
       "    <tr>\n",
       "      <th>min</th>\n",
       "      <td>1.000000</td>\n",
       "      <td>0.000000</td>\n",
       "      <td>0.166667</td>\n",
       "      <td>0.210000</td>\n",
       "      <td>0.000109</td>\n",
       "      <td>0.000000</td>\n",
       "      <td>0.000000</td>\n",
       "      <td>0.000000</td>\n",
       "      <td>0.000000</td>\n",
       "      <td>0.000000</td>\n",
       "    </tr>\n",
       "    <tr>\n",
       "      <th>25%</th>\n",
       "      <td>330.500000</td>\n",
       "      <td>0.000000</td>\n",
       "      <td>25.416670</td>\n",
       "      <td>2.243750</td>\n",
       "      <td>0.002316</td>\n",
       "      <td>4.583333</td>\n",
       "      <td>0.000000</td>\n",
       "      <td>12.000000</td>\n",
       "      <td>1.000000</td>\n",
       "      <td>2.000000</td>\n",
       "    </tr>\n",
       "    <tr>\n",
       "      <th>50%</th>\n",
       "      <td>660.000000</td>\n",
       "      <td>0.000000</td>\n",
       "      <td>31.250000</td>\n",
       "      <td>2.900000</td>\n",
       "      <td>0.038827</td>\n",
       "      <td>101.298300</td>\n",
       "      <td>1.000000</td>\n",
       "      <td>30.000000</td>\n",
       "      <td>1.000000</td>\n",
       "      <td>6.000000</td>\n",
       "    </tr>\n",
       "    <tr>\n",
       "      <th>75%</th>\n",
       "      <td>989.500000</td>\n",
       "      <td>0.000000</td>\n",
       "      <td>39.416670</td>\n",
       "      <td>4.000000</td>\n",
       "      <td>0.093617</td>\n",
       "      <td>249.035800</td>\n",
       "      <td>2.000000</td>\n",
       "      <td>72.000000</td>\n",
       "      <td>1.000000</td>\n",
       "      <td>11.000000</td>\n",
       "    </tr>\n",
       "    <tr>\n",
       "      <th>max</th>\n",
       "      <td>1319.000000</td>\n",
       "      <td>14.000000</td>\n",
       "      <td>83.500000</td>\n",
       "      <td>13.500000</td>\n",
       "      <td>0.906320</td>\n",
       "      <td>3099.505000</td>\n",
       "      <td>6.000000</td>\n",
       "      <td>540.000000</td>\n",
       "      <td>1.000000</td>\n",
       "      <td>46.000000</td>\n",
       "    </tr>\n",
       "  </tbody>\n",
       "</table>\n",
       "</div>"
      ],
      "text/plain": [
       "          rownames      reports          age       income        share  \\\n",
       "count  1319.000000  1319.000000  1319.000000  1319.000000  1319.000000   \n",
       "mean    660.000000     0.456406    33.213103     3.365376     0.068732   \n",
       "std     380.906813     1.345267    10.142783     1.693902     0.094656   \n",
       "min       1.000000     0.000000     0.166667     0.210000     0.000109   \n",
       "25%     330.500000     0.000000    25.416670     2.243750     0.002316   \n",
       "50%     660.000000     0.000000    31.250000     2.900000     0.038827   \n",
       "75%     989.500000     0.000000    39.416670     4.000000     0.093617   \n",
       "max    1319.000000    14.000000    83.500000    13.500000     0.906320   \n",
       "\n",
       "       expenditure   dependents       months   majorcards       active  \n",
       "count  1319.000000  1319.000000  1319.000000  1319.000000  1319.000000  \n",
       "mean    185.057071     0.993935    55.267627     0.817286     6.996967  \n",
       "std     272.218917     1.247745    66.271746     0.386579     6.305812  \n",
       "min       0.000000     0.000000     0.000000     0.000000     0.000000  \n",
       "25%       4.583333     0.000000    12.000000     1.000000     2.000000  \n",
       "50%     101.298300     1.000000    30.000000     1.000000     6.000000  \n",
       "75%     249.035800     2.000000    72.000000     1.000000    11.000000  \n",
       "max    3099.505000     6.000000   540.000000     1.000000    46.000000  "
      ]
     },
     "execution_count": 44,
     "metadata": {},
     "output_type": "execute_result"
    }
   ],
   "source": [
    "df.describe()"
   ]
  },
  {
   "cell_type": "markdown",
   "metadata": {},
   "source": [
    "**Shape**"
   ]
  },
  {
   "cell_type": "code",
   "execution_count": 45,
   "metadata": {},
   "outputs": [
    {
     "name": "stdout",
     "output_type": "stream",
     "text": [
      "<class 'pandas.core.frame.DataFrame'>\n",
      "RangeIndex: 1319 entries, 0 to 1318\n",
      "Data columns (total 13 columns):\n",
      " #   Column       Non-Null Count  Dtype  \n",
      "---  ------       --------------  -----  \n",
      " 0   rownames     1319 non-null   int64  \n",
      " 1   card         1319 non-null   object \n",
      " 2   reports      1319 non-null   int64  \n",
      " 3   age          1319 non-null   float64\n",
      " 4   income       1319 non-null   float64\n",
      " 5   share        1319 non-null   float64\n",
      " 6   expenditure  1319 non-null   float64\n",
      " 7   owner        1319 non-null   object \n",
      " 8   selfemp      1319 non-null   object \n",
      " 9   dependents   1319 non-null   int64  \n",
      " 10  months       1319 non-null   int64  \n",
      " 11  majorcards   1319 non-null   int64  \n",
      " 12  active       1319 non-null   int64  \n",
      "dtypes: float64(4), int64(6), object(3)\n",
      "memory usage: 134.1+ KB\n"
     ]
    }
   ],
   "source": [
    "df.info()"
   ]
  },
  {
   "cell_type": "markdown",
   "metadata": {},
   "source": [
    "**I used a seed value based on the last 3 digits of my BU ID to create a data partition, assigning approximately 60% of the records to my training set and the other 40% to my validation (or test) set.**"
   ]
  },
  {
   "cell_type": "code",
   "execution_count": 46,
   "metadata": {},
   "outputs": [
    {
     "name": "stdout",
     "output_type": "stream",
     "text": [
      "Training set size: 791 rows\n",
      "Validation set size: 528 rows\n"
     ]
    }
   ],
   "source": [
    "# Partitioning the dataset into training (60%) and validation (40%) sets:\n",
    "X = df.drop('income', axis=1)\n",
    "y = df['income']\n",
    "\n",
    "# Creating a 60-40 train-test split with random_state = 218 (last 3 digits of my BU ID):\n",
    "X_train, X_test, y_train, y_test = train_test_split(X, y, test_size=0.4, random_state=218, shuffle=False)\n",
    "\n",
    "# Partition details:\n",
    "print(f\"Training set size: {len(X_train)} rows\")\n",
    "print(f\"Validation set size: {len(X_test)} rows\")"
   ]
  },
  {
   "cell_type": "markdown",
   "metadata": {},
   "source": [
    "**It important to partition the data before doing any sort of in-depth analysis of\n",
    "the variables**"
   ]
  },
  {
   "cell_type": "markdown",
   "metadata": {},
   "source": [
    "***Avoids Overfitting:***\n",
    "\n",
    "*Partitioning the data ensures that the model does not memorize the training data but learns patterns that generalize well to unseen data.*\n",
    "\n",
    "***Reliable Performance Assessment:***\n",
    "\n",
    "*By setting aside a validation set, we can accurately assess how the model performs on new data, providing a trustworthy estimate of real-world performance.*\n",
    "\n",
    "***Enhances Model Selection:***\n",
    "\n",
    "*Partitioning allows for fair comparisons between different models or algorithms by evaluating each one on the same, unseen validation set.*\n",
    "\n",
    "***Prevents Data Snooping Bias:***\n",
    "\n",
    "*Analyzing the full dataset before partitioning can lead to insights from the test data influencing the model, introducing bias and inflating performance metrics.*\n",
    "\n",
    "***Supports Robust Feature Engineering:***\n",
    "\n",
    "*Data partitioning enables more objective feature selection by ensuring that feature engineering decisions are validated on independent data.*"
   ]
  },
  {
   "cell_type": "markdown",
   "metadata": {},
   "source": [
    "**Exploring the Relationship Between Income and Dependents**"
   ]
  },
  {
   "cell_type": "markdown",
   "metadata": {},
   "source": [
    "**Creating a scatterplot that depicts income on the y-axis and dependents on the x-axis.**"
   ]
  },
  {
   "cell_type": "markdown",
   "metadata": {},
   "source": [
    "**Adding a best-fit line to this scatterplot. Using only your training set data to build this plot.**"
   ]
  },
  {
   "cell_type": "code",
   "execution_count": 47,
   "metadata": {},
   "outputs": [
    {
     "data": {
      "image/png": "[encoded data removed]",
      "text/plain": [
       "<Figure size 800x500 with 1 Axes>"
      ]
     },
     "metadata": {},
     "output_type": "display_data"
    }
   ],
   "source": [
    "# Separating features and target\n",
    "X = df[['dependents']]\n",
    "y = df['income']\n",
    "\n",
    "# Creating a 60-40 train-test split with random_state = 218 (last 3 digits of my BU ID):\n",
    "X_train, X_test, y_train, y_test = train_test_split(X, y, test_size=0.4, random_state=218,shuffle=False)\n",
    "\n",
    "# Initializing and training the Linear Regression model on training data only\n",
    "model = LinearRegression()\n",
    "model.fit(X_train, y_train)\n",
    "\n",
    "# Generating predictions for the best-fit line using training data only\n",
    "x_range = pd.DataFrame(np.linspace(X_train['dependents'].min(), X_train['dependents'].max(), 100), columns=['dependents'])\n",
    "y_pred_line = model.predict(x_range)\n",
    "\n",
    "# Creating scatterplot using only the training set\n",
    "plt.figure(figsize=(8, 5))\n",
    "plt.scatter(X_train['dependents'], y_train,color='violet', alpha=0.7, label='Training Data')\n",
    "\n",
    "# Ploting the best-fit line derived from training data\n",
    "plt.plot(x_range, y_pred_line, color='green', linewidth=2, label='Best-Fit Line (Training Data)')\n",
    "\n",
    "# Adding title, labels, and legend\n",
    "plt.title('Income vs. Dependents (Training Data Only)', fontsize=14)\n",
    "plt.xlabel('Number of Dependents', fontsize=12)\n",
    "plt.ylabel('Income  (in USD 10,000)', fontsize=12)\n",
    "plt.grid(True, linestyle='--', alpha=0.7)\n",
    "plt.legend()\n",
    "\n",
    "# The plot\n",
    "plt.show()"
   ]
  },
  {
   "cell_type": "markdown",
   "metadata": {},
   "source": [
    "***Relationship Between Variables***\n",
    "\n",
    "*The scatterplot shows a positive relationship between income and number of dependents.*\n",
    "\n",
    "*The best-fit line has a slight upward slope, indicating that as the number of dependents increases, income tends to increase.*\n",
    "\n",
    "*The positive trend suggests that individuals with more dependents might generally have higher incomes.*\n",
    "\n",
    "\n",
    "***Strength of the Relationship***\n",
    "\n",
    "*The data points are widely scattered around the best-fit line, which indicates a weak linear relationship.*\n",
    "\n",
    "*The variance in income appears to be large for any given number of dependents, which implies that dependents alone do not strongly explain variations in income.*\n",
    "\n",
    "*This suggests that other factors, such as education level, job type, or work experience, may have a more significant impact on income.*\n",
    "\n",
    "\n",
    "***Does This Make Intuitive Sense?***\n",
    "\n",
    "*Yes, this relationship makes intuitive sense to some extent.*\n",
    "\n",
    "*More dependents often correlate with higher income because larger households usually need more financial resources.*\n",
    "\n",
    "*Individuals with greater family responsibilities may seek higher-paying jobs or pursue career growth to support dependents.*\n",
    "\n",
    "***less people have dependents of 5 and 6:***\n",
    "\n",
    "*There are very few data points for individuals with 5 or 6 dependents. The limited representation of these higher-dependent households makes it challenging for the model to accurately learn the pattern for these cases.*"
   ]
  },
  {
   "cell_type": "markdown",
   "metadata": {},
   "source": [
    "**Using training set data only, finding the correlation between income and dependents.**"
   ]
  },
  {
   "cell_type": "code",
   "execution_count": 48,
   "metadata": {},
   "outputs": [
    {
     "name": "stdout",
     "output_type": "stream",
     "text": [
      "Correlation between income and dependents (Training Set Only): 0.3169\n"
     ]
    }
   ],
   "source": [
    "# Correlation between income and dependents using training set data only\n",
    "correlation = X_train['dependents'].corr(y_train)\n",
    "\n",
    "# Correlation value\n",
    "print(f\"Correlation between income and dependents (Training Set Only): {correlation:.4f}\")"
   ]
  },
  {
   "cell_type": "markdown",
   "metadata": {},
   "source": [
    "*Weak Positive Correlation.*\n",
    "\n",
    "*Interpretation:*\n",
    "\n",
    "*While there is some positive relationship between the number of dependents and income, it is not particularly strong.*\n",
    "\n",
    "*The wide scatter of points around the best-fit line in the scatterplot supports this observation.*"
   ]
  },
  {
   "cell_type": "markdown",
   "metadata": {},
   "source": [
    "**Checking for correlation significance**"
   ]
  },
  {
   "cell_type": "code",
   "execution_count": 49,
   "metadata": {},
   "outputs": [
    {
     "name": "stdout",
     "output_type": "stream",
     "text": [
      "Correlation Coefficient: 0.3169\n",
      "P-value: 0.000000\n",
      "The correlation is statistically significant.\n"
     ]
    }
   ],
   "source": [
    "# Correlation coefficient and p-value using only the training set\n",
    "corr_coeff, p_value = pearsonr(X_train['dependents'], y_train)\n",
    "\n",
    "# Display the results\n",
    "print(f\"Correlation Coefficient: {corr_coeff:.4f}\")\n",
    "print(f\"P-value: {p_value:.6f}\")\n",
    "\n",
    "# Checking for significance\n",
    "if p_value < 0.05:\n",
    "    print(\"The correlation is statistically significant.\")\n",
    "else:\n",
    "    print(\"The correlation is NOT statistically significant.\")"
   ]
  },
  {
   "cell_type": "markdown",
   "metadata": {},
   "source": [
    "*Yes, the correlation is statistically significant.*\n",
    "\n",
    "*P-value: 0.000000 (effectively 0), which is far below the 0.05 threshold.*\n",
    "\n",
    "***Significance Interpretation:***\n",
    "\n",
    "*The likelihood that this relationship occurred by random chance is almost zero.While the relationship is weak, it is statistically valid.*"
   ]
  },
  {
   "cell_type": "markdown",
   "metadata": {},
   "source": [
    "**Using training set, creating a simple linear regression model, with income as outcome variable and dependents as input variable. Summarizing the results of the model.**"
   ]
  },
  {
   "cell_type": "code",
   "execution_count": 50,
   "metadata": {},
   "outputs": [
    {
     "name": "stdout",
     "output_type": "stream",
     "text": [
      "Simple Linear Regression Model Summary (Training Set Only):\n",
      "\n",
      "Mean Squared Error (MSE): 2.7145\n",
      "Mean Absolute Error (MAE): 1.1661\n",
      "\n",
      "Full Regression Summary (Statsmodels):\n",
      "                            OLS Regression Results                            \n",
      "==============================================================================\n",
      "Dep. Variable:                 income   R-squared:                       0.100\n",
      "Model:                            OLS   Adj. R-squared:                  0.099\n",
      "Method:                 Least Squares   F-statistic:                     88.10\n",
      "Date:                Tue, 09 Sep 2025   Prob (F-statistic):           6.49e-20\n",
      "Time:                        19:40:00   Log-Likelihood:                -1517.3\n",
      "No. Observations:                 791   AIC:                             3039.\n",
      "Df Residuals:                     789   BIC:                             3048.\n",
      "Df Model:                           1                                         \n",
      "Covariance Type:            nonrobust                                         \n",
      "==============================================================================\n",
      "                 coef    std err          t      P>|t|      [0.025      0.975]\n",
      "------------------------------------------------------------------------------\n",
      "const          2.9511      0.075     39.109      0.000       2.803       3.099\n",
      "dependents     0.4731      0.050      9.386      0.000       0.374       0.572\n",
      "==============================================================================\n",
      "Omnibus:                      321.902   Durbin-Watson:                   1.786\n",
      "Prob(Omnibus):                  0.000   Jarque-Bera (JB):             1376.154\n",
      "Skew:                           1.880   Prob(JB):                    1.49e-299\n",
      "Kurtosis:                       8.255   Cond. No.                         2.36\n",
      "==============================================================================\n",
      "\n",
      "Notes:\n",
      "[1] Standard Errors assume that the covariance matrix of the errors is correctly specified.\n"
     ]
    }
   ],
   "source": [
    "# Initializing and train the Simple Linear Regression model\n",
    "model = LinearRegression()\n",
    "model.fit(X_train, y_train)\n",
    "\n",
    "# Model predictions on the training set\n",
    "y_train_pred = model.predict(X_train)\n",
    "\n",
    "# Calculating performance metrics\n",
    "mse = mean_squared_error(y_train, y_train_pred)\n",
    "mae = mean_absolute_error(y_train, y_train_pred)\n",
    "r2 = r2_score(y_train, y_train_pred)\n",
    "\n",
    "# Model summary using sklearn\n",
    "print(\"Simple Linear Regression Model Summary (Training Set Only):\\n\")\n",
    "print(f\"Mean Squared Error (MSE): {mse:.4f}\")\n",
    "print(f\"Mean Absolute Error (MAE): {mae:.4f}\")\n",
    "\n",
    "# Detailed regression summary using statsmodels\n",
    "X_train_const = sm.add_constant(X_train)\n",
    "ols_model = sm.OLS(y_train, X_train_const).fit()\n",
    "\n",
    "# Display the full statistical summary\n",
    "print(\"\\nFull Regression Summary (Statsmodels):\")\n",
    "print(ols_model.summary())"
   ]
  },
  {
   "cell_type": "markdown",
   "metadata": {},
   "source": [
    "**The minimum (most negative) and maximum (most positive) residual values\n",
    "in this model**"
   ]
  },
  {
   "cell_type": "code",
   "execution_count": 51,
   "metadata": {},
   "outputs": [
    {
     "name": "stdout",
     "output_type": "stream",
     "text": [
      "Minimum Residual (Most Negative): -3.3433\n",
      "Maximum Residual (Most Positive): 9.6028\n"
     ]
    }
   ],
   "source": [
    "# Calculate residuals for the training set\n",
    "residuals = y_train - y_train_pred\n",
    "\n",
    "# Calculate minimum and maximum residual values\n",
    "min_residual = residuals.min()\n",
    "max_residual = residuals.max()\n",
    "\n",
    "# Print the results\n",
    "print(f\"Minimum Residual (Most Negative): {min_residual:.4f}\")\n",
    "print(f\"Maximum Residual (Most Positive): {max_residual:.4f}\")"
   ]
  },
  {
   "cell_type": "markdown",
   "metadata": {},
   "source": [
    "**Finding the Observation Whose Rating Generated the Highest Residual Value in the Model**"
   ]
  },
  {
   "cell_type": "code",
   "execution_count": 52,
   "metadata": {},
   "outputs": [
    {
     "name": "stdout",
     "output_type": "stream",
     "text": [
      "Observation with the Highest Residual: Index 113\n",
      "Actual Income: 13.5000\n",
      "Predicted Income: 3.8972\n",
      "Calculated Residual: 9.6028\n"
     ]
    }
   ],
   "source": [
    "# Identifing the index of the observation with the maximum residual\n",
    "max_residual_index = residuals.idxmax()\n",
    "\n",
    "# Retrieving the actual income and predicted income for this observation\n",
    "actual_income = y_train[max_residual_index]\n",
    "predicted_income = y_train_pred[max_residual_index]\n",
    "\n",
    "# Calculating the residual manually to verify the result\n",
    "calculated_residual = actual_income - predicted_income\n",
    "\n",
    "# Print the results\n",
    "print(f\"Observation with the Highest Residual: Index {max_residual_index}\")\n",
    "print(f\"Actual Income: {actual_income:.4f}\")\n",
    "print(f\"Predicted Income: {predicted_income:.4f}\")\n",
    "print(f\"Calculated Residual: {calculated_residual:.4f}\")"
   ]
  },
  {
   "cell_type": "markdown",
   "metadata": {},
   "source": [
    "***Interpretation***\n",
    "\n",
    "*The positive residual indicates the model underestimated this individual's income by 9.6028 units.*\n",
    "\n",
    "*The model predicted the income to be 3.8972, but the actual value was 13.5000.*"
   ]
  },
  {
   "cell_type": "markdown",
   "metadata": {},
   "source": [
    "**Find the Observation Whose Rating Generated the Lowest (i.e., Most Negative) Residual Value**"
   ]
  },
  {
   "cell_type": "code",
   "execution_count": 53,
   "metadata": {},
   "outputs": [
    {
     "name": "stdout",
     "output_type": "stream",
     "text": [
      "Observation with the Lowest Residual: Index 787\n",
      "Actual Income: 1.5000\n",
      "Predicted Income: 4.8433\n",
      "Calculated Residual: -3.3433\n"
     ]
    }
   ],
   "source": [
    "# Identifing the index of the observation with the minimum residual\n",
    "min_residual_index = residuals.idxmin()\n",
    "\n",
    "# Retrieving the actual income and predicted income for this observation\n",
    "actual_income_min = y_train[min_residual_index]\n",
    "predicted_income_min = y_train_pred[min_residual_index]\n",
    "\n",
    "# Calculating the residual manually\n",
    "calculated_residual_min = actual_income_min - predicted_income_min\n",
    "\n",
    "# Print the results\n",
    "print(f\"Observation with the Lowest Residual: Index {min_residual_index}\")\n",
    "print(f\"Actual Income: {actual_income_min:.4f}\")\n",
    "print(f\"Predicted Income: {predicted_income_min:.4f}\")\n",
    "print(f\"Calculated Residual: {calculated_residual_min:.4f}\")"
   ]
  },
  {
   "cell_type": "markdown",
   "metadata": {},
   "source": [
    "***Interpretation***\n",
    "\n",
    "*The negative residual indicates the model overestimated this individual's income by 3.3433 units.*\n",
    "\n",
    "*The model predicted the income to be 4.8433, but the actual value was only 1.5000.*"
   ]
  },
  {
   "cell_type": "markdown",
   "metadata": {},
   "source": [
    "**Model Accuracy and Dependents as a Predictor**"
   ]
  },
  {
   "cell_type": "markdown",
   "metadata": {},
   "source": [
    "*While dependents can serve as an initial indicator for income prediction,since larger households often require higher earnings and it does not perfectly predict income.*\n",
    "\n",
    "*The correlation of 0.3169 indicates a weak positive relationship, meaning the number of dependents explains only a small portion of the variability in income.*\n",
    "\n",
    "*The model struggles with ***edge cases***, as seen in these residuals. It underestimated income for the high-income individual and overestimated it for the low-income individual, highlighting the need to include other predictors like age, employment type, or expenditure to better capture income variations.*"
   ]
  },
  {
   "cell_type": "markdown",
   "metadata": {},
   "source": [
    "# **Part II: Multiple Linear Regression**"
   ]
  },
  {
   "cell_type": "code",
   "execution_count": 54,
   "metadata": {},
   "outputs": [],
   "source": [
    "df1 = pd.read_csv(\"CreditCard.csv\")"
   ]
  },
  {
   "cell_type": "markdown",
   "metadata": {},
   "source": [
    "**Building a Correlation Table for Numerical Predictors Using the Training Set**"
   ]
  },
  {
   "cell_type": "code",
   "execution_count": 55,
   "metadata": {},
   "outputs": [],
   "source": [
    "# Splitting the Training and test data: (60 - 40)\n",
    "\n",
    "X1 = df1[['reports','age','share','expenditure','dependents','months','majorcards','active']]\n",
    "y1 = df1['income']\n",
    "\n",
    "# Creating a 60-40 train-test split\n",
    "X1_train, X1_test, y1_train, y1_test = train_test_split(X1, y1, test_size=0.4, random_state=218, shuffle=False)"
   ]
  },
  {
   "cell_type": "code",
   "execution_count": 56,
   "metadata": {},
   "outputs": [
    {
     "name": "stdout",
     "output_type": "stream",
     "text": [
      "              reports       age     share  expenditure  dependents    months  \\\n",
      "reports      1.000000  0.036465 -0.169491    -0.136519   -0.009711  0.002813   \n",
      "age          0.036465  1.000000 -0.073298     0.060327    0.205628  0.433904   \n",
      "share       -0.169491 -0.073298  1.000000     0.831369   -0.046175 -0.021730   \n",
      "expenditure -0.136519  0.060327  0.831369     1.000000    0.083528  0.020141   \n",
      "dependents  -0.009711  0.205628 -0.046175     0.083528    1.000000  0.077594   \n",
      "months       0.002813  0.433904 -0.021730     0.020141    0.077594  1.000000   \n",
      "majorcards  -0.031413  0.009902  0.077969     0.108817    0.030405 -0.037438   \n",
      "active       0.202346  0.166074  0.019588     0.095448    0.111438  0.126718   \n",
      "\n",
      "             majorcards    active  \n",
      "reports       -0.031413  0.202346  \n",
      "age            0.009902  0.166074  \n",
      "share          0.077969  0.019588  \n",
      "expenditure    0.108817  0.095448  \n",
      "dependents     0.030405  0.111438  \n",
      "months        -0.037438  0.126718  \n",
      "majorcards     1.000000  0.142939  \n",
      "active         0.142939  1.000000  \n"
     ]
    },
    {
     "data": {
      "image/png": "[encoded data removed]",
      "text/plain": [
       "<Figure size 800x500 with 2 Axes>"
      ]
     },
     "metadata": {},
     "output_type": "display_data"
    }
   ],
   "source": [
    "# Correlation matrix for numerical features in the training set\n",
    "correlation_matrix = X1_train.corr()\n",
    "\n",
    "# Displaying the correlation matrix\n",
    "print(correlation_matrix)\n",
    "\n",
    "# Visualizing the correlation matrix using a heatmap\n",
    "plt.figure(figsize=(8, 5))\n",
    "sns.heatmap(correlation_matrix, annot=True, cmap='coolwarm', fmt=\".2f\")\n",
    "plt.title('Correlation Matrix of Numerical Predictors (Training Set)')\n",
    "plt.show()"
   ]
  },
  {
   "cell_type": "markdown",
   "metadata": {},
   "source": [
    "*There are variable relationships that suggest potential multicollinearity issues in this dataset.*\n",
    "\n",
    "***High Correlation Between 'share' and 'expenditure' (0.83)***\n",
    "\n",
    "*These two variables are strongly positively correlated, suggesting they provide similar information about spending behavior. Including both might lead to redundancy in the model.*\n",
    "\n",
    "***Moderate Correlation Between 'months' and 'age' (0.43)***\n",
    "\n",
    "*While not as strong as the first pair, this moderate correlation suggests that people with more months at their current address tend to be older, which makes intuitive sense.*\n",
    "\n",
    "***Conclusion:***\n",
    "\n",
    "*The strongest concern here is the correlation between 'share' and 'expenditure'. Removing one of these variables could improve model performance by reducing multicollinearity.*"
   ]
  },
  {
   "cell_type": "markdown",
   "metadata": {},
   "source": [
    "***Decision:***\n",
    "\n",
    "*'Expenditure' was removed because 'share' provides a more normalized representation of credit behavior by accounting for income differences across individuals.*\n",
    "\n",
    "***Rationale:***\n",
    "\n",
    "*'Share' is more likely to generalize well across different income levels since it scales expenditure relative to income.*"
   ]
  },
  {
   "cell_type": "markdown",
   "metadata": {},
   "source": [
    "**Building a Multiple Regression Model Using Backward Elimination**"
   ]
  },
  {
   "cell_type": "code",
   "execution_count": 57,
   "metadata": {},
   "outputs": [
    {
     "name": "stdout",
     "output_type": "stream",
     "text": [
      "Removing 'months' with p-value: 0.9041\n",
      "Removing 'reports' with p-value: 0.8857\n",
      "Removing 'share' with p-value: 0.8467\n",
      "                            OLS Regression Results                            \n",
      "==============================================================================\n",
      "Dep. Variable:                 income   R-squared:                       0.203\n",
      "Model:                            OLS   Adj. R-squared:                  0.199\n",
      "Method:                 Least Squares   F-statistic:                     50.01\n",
      "Date:                Tue, 09 Sep 2025   Prob (F-statistic):           1.62e-37\n",
      "Time:                        19:40:00   Log-Likelihood:                -1469.5\n",
      "No. Observations:                 791   AIC:                             2949.\n",
      "Df Residuals:                     786   BIC:                             2972.\n",
      "Df Model:                           4                                         \n",
      "Covariance Type:            nonrobust                                         \n",
      "==============================================================================\n",
      "                 coef    std err          t      P>|t|      [0.025      0.975]\n",
      "------------------------------------------------------------------------------\n",
      "const          0.9486      0.222      4.278      0.000       0.513       1.384\n",
      "age            0.0437      0.006      7.683      0.000       0.033       0.055\n",
      "dependents     0.3701      0.049      7.593      0.000       0.274       0.466\n",
      "majorcards     0.5357      0.146      3.677      0.000       0.250       0.822\n",
      "active         0.0333      0.009      3.679      0.000       0.016       0.051\n",
      "==============================================================================\n",
      "Omnibus:                      284.043   Durbin-Watson:                   1.772\n",
      "Prob(Omnibus):                  0.000   Jarque-Bera (JB):             1086.851\n",
      "Skew:                           1.674   Prob(JB):                    9.85e-237\n",
      "Kurtosis:                       7.666   Cond. No.                         151.\n",
      "==============================================================================\n",
      "\n",
      "Notes:\n",
      "[1] Standard Errors assume that the covariance matrix of the errors is correctly specified.\n"
     ]
    }
   ],
   "source": [
    "# Backward elimination function without 'expenditure' (Target Variable)\n",
    "\n",
    "def backward_elimination(X1_train, y1_train, significance_level=0.05):\n",
    "    if 'expenditure' in X1_train.columns:\n",
    "        X1_train = X1_train.drop('expenditure', axis=1)\n",
    "\n",
    "    # Add a constant term for the intercept\n",
    "    X1_train = sm.add_constant(X1_train)\n",
    "\n",
    "    while True:\n",
    "        # Fit the model and get p-values\n",
    "        model1 = sm.OLS(y1_train, X1_train).fit()\n",
    "        p_values = model1.pvalues\n",
    "\n",
    "        # Identify the maximum p-value\n",
    "        max_p_value = p_values.max()\n",
    "\n",
    "        # Remove the predictor with the highest p-value if it exceeds the significance level\n",
    "        if max_p_value > significance_level:\n",
    "            worst_feature = p_values.idxmax()\n",
    "            X1_train = X1_train.drop(worst_feature, axis=1)\n",
    "            print(f\"Removing '{worst_feature}' with p-value: {max_p_value:.4f}\")\n",
    "        else:\n",
    "            break\n",
    "\n",
    "    return model1\n",
    "\n",
    "# Runing backward elimination on the training data\n",
    "\n",
    "model1 = backward_elimination(X1_train, y1_train)\n",
    "print(model1.summary())"
   ]
  },
  {
   "cell_type": "markdown",
   "metadata": {},
   "source": [
    "# **Model metrics**"
   ]
  },
  {
   "cell_type": "code",
   "execution_count": 58,
   "metadata": {},
   "outputs": [
    {
     "name": "stdout",
     "output_type": "stream",
     "text": [
      "SST (Total Sum of Squares): 2386.8919\n"
     ]
    }
   ],
   "source": [
    "# Total Sum of Squares (SST)\n",
    "\n",
    "y1_mean = y1_train.mean()\n",
    "sst = np.sum((y1_train - y1_mean) ** 2)\n",
    "print(f\"SST (Total Sum of Squares): {sst:.4f}\")"
   ]
  },
  {
   "cell_type": "code",
   "execution_count": 59,
   "metadata": {},
   "outputs": [
    {
     "name": "stdout",
     "output_type": "stream",
     "text": [
      "SSR (Sum of Squares due to Regression): 484.2191\n"
     ]
    }
   ],
   "source": [
    "# Total Sum of Squares due to Regression (SSR)\n",
    "\n",
    "y1_pred = model1.fittedvalues  # Predicted values from the regression model\n",
    "y1_mean = y1_train.mean()\n",
    "ssr = np.sum((y1_pred - y1_mean) ** 2)\n",
    "\n",
    "print(f\"SSR (Sum of Squares due to Regression): {ssr:.4f}\")"
   ]
  },
  {
   "cell_type": "code",
   "execution_count": 60,
   "metadata": {},
   "outputs": [
    {
     "name": "stdout",
     "output_type": "stream",
     "text": [
      "SSR/SST (R-squared): 0.2029\n"
     ]
    }
   ],
   "source": [
    "# The ratio SSR/SST\n",
    "\n",
    "ratio = ssr / sst\n",
    "ratio\n",
    "print(f\"SSR/SST (R-squared): {ratio:.4f}\")"
   ]
  },
  {
   "cell_type": "markdown",
   "metadata": {},
   "source": [
    "**Deriving the p-Value from a t-Value for a Predictor in the Model**"
   ]
  },
  {
   "cell_type": "code",
   "execution_count": 61,
   "metadata": {},
   "outputs": [
    {
     "name": "stdout",
     "output_type": "stream",
     "text": [
      "T-value for 'majorcards': 3.6770\n",
      "P-value for 'majorcards': 0.000252\n"
     ]
    }
   ],
   "source": [
    "# Given t-value and degrees of freedom\n",
    "\n",
    "t_value = 3.677\n",
    "df= 791 - 4 - 1   # (since: df=n−k−1)\n",
    "df = 786\n",
    "\n",
    "# Calculating the two-tailed p-value\n",
    "\n",
    "p_value = 2 * (1 - stats.t.cdf(abs(t_value), df))\n",
    "\n",
    "print(f\"T-value for 'majorcards': {t_value:.4f}\")\n",
    "print(f\"P-value for 'majorcards': {p_value:.6f}\")"
   ]
  },
  {
   "cell_type": "markdown",
   "metadata": {},
   "source": [
    "**F-Statistic: 50.01**\n",
    "\n",
    "**p-value: 1 .62e-37** *(very small, suggesting strong evidence against the null hypothesis)*\n",
    "\n",
    "*The F-statistic in a regression model measures whether the independent variables (predictors) as a group have a statistically significant relationship with the dependent variable.*\n",
    "\n",
    "***Null Hypothesis:***\n",
    "\n",
    "*All regression coefficients (except the intercept) are equal to zero — i.e., the predictors have no effect on the dependent variable.*\n",
    "\n",
    "***Alternative Hypothesis:***\n",
    "\n",
    "*At least one predictor variable significantly affects the dependent variables.*\n",
    "\n",
    "*High F-Statistic: Indicates that the model does a better job of explaining the variability in the dependent variable compared to a model with no predictors.*\n",
    "\n",
    "*Low F-Statistic: Suggests that the model does not provide a significant improvement in explaining the outcome compared to a simple mean-based prediction.*\n",
    "\n",
    "**Interpretation:**\n",
    "\n",
    "*Our model explains a significant portion of the variance in income.\n",
    "The predictors together significantly contribute to the model’s explanatory power.*"
   ]
  },
  {
   "cell_type": "markdown",
   "metadata": {},
   "source": [
    "**Predicting Income for a Fictional Consumer Using the Model**"
   ]
  },
  {
   "cell_type": "code",
   "execution_count": 62,
   "metadata": {},
   "outputs": [
    {
     "name": "stdout",
     "output_type": "stream",
     "text": [
      "Predicted Income: $62167.00\n"
     ]
    }
   ],
   "source": [
    "# Predicting income for the fictional consumer:\n",
    "# Coefficients from the model:\n",
    "\n",
    "intercept = 0.9486\n",
    "coefficients = {'age': 0.0437, 'dependents': 0.3701, 'majorcards': 0.5357, 'active': 0.0333}\n",
    "\n",
    "# Consumer's attributes\n",
    "consumer = {'age': 60, 'dependents': 1, 'majorcards': 4, 'active': 4}\n",
    "\n",
    "# Predicted income\n",
    "predicted_income = intercept + sum(consumer[var] * coefficients[var] for var in consumer)\n",
    "\n",
    "print(f\"Predicted Income: ${predicted_income * 10000:.2f}\")"
   ]
  },
  {
   "cell_type": "code",
   "execution_count": 63,
   "metadata": {},
   "outputs": [
    {
     "name": "stdout",
     "output_type": "stream",
     "text": [
      "Predicted Income: $62167.00\n"
     ]
    }
   ],
   "source": [
    "# Using the equation and some simple math:\n",
    "# Fictional Consumer:\n",
    "\n",
    "age\t= 60\n",
    "dependents\t= 1\n",
    "majorcards\t= 4\n",
    "active\t= 4\n",
    "\n",
    "y1_pred = (0.9486+(0.0437*age)+(0.3701*dependents)+(0.5357*majorcards)+(0.0333*active)) * 10000\n",
    "\n",
    "print(f\"Predicted Income: ${y1_pred:.2f}\")"
   ]
  },
  {
   "cell_type": "markdown",
   "metadata": {},
   "source": [
    "**Assessing Model Accuracy on the Training and Validation Sets**"
   ]
  },
  {
   "cell_type": "code",
   "execution_count": 64,
   "metadata": {},
   "outputs": [
    {
     "name": "stdout",
     "output_type": "stream",
     "text": [
      "Training Set Performance:\n",
      "MAE: 1.1010, MSE: 2.4054, RMSE: 1.5509, R²: 0.2029\n",
      "\n",
      "Validation Set Performance:\n",
      "MAE: 1.0558, MSE: 2.2343, RMSE: 1.4948, R²: 0.1531\n"
     ]
    }
   ],
   "source": [
    "# Selecting only the columns that were retained after backward elimination:\n",
    "X1_train_reduced = X1_train[['age', 'dependents', 'majorcards', 'active']]\n",
    "X1_test_reduced = X1_test[['age', 'dependents', 'majorcards', 'active']]\n",
    "\n",
    "# Adding the constant and predict:\n",
    "y1_train_pred = model1.predict(sm.add_constant(X1_train_reduced))\n",
    "y1_test_pred = model1.predict(sm.add_constant(X1_test_reduced))\n",
    "\n",
    "# Metrics for the training set:\n",
    "mae_train = mean_absolute_error(y1_train, y1_train_pred)\n",
    "mse_train = mean_squared_error(y1_train, y1_train_pred)\n",
    "rmse_train = mse_train ** 0.5\n",
    "r2_train = r2_score(y1_train, y1_train_pred)\n",
    "\n",
    "# Metrics for the validation (test) set:\n",
    "mae_test = mean_absolute_error(y1_test, y1_test_pred)\n",
    "mse_test = mean_squared_error(y1_test, y1_test_pred)\n",
    "rmse_test = mse_test ** 0.5\n",
    "r2_test = r2_score(y1_test, y1_test_pred)\n",
    "\n",
    "# Results:\n",
    "print(\"Training Set Performance:\")\n",
    "print(f\"MAE: {mae_train:.4f}, MSE: {mse_train:.4f}, RMSE: {rmse_train:.4f}, R²: {r2_train:.4f}\\n\")\n",
    "\n",
    "print(\"Validation Set Performance:\")\n",
    "print(f\"MAE: {mae_test:.4f}, MSE: {mse_test:.4f}, RMSE: {rmse_test:.4f}, R²: {r2_test:.4f}\")"
   ]
  },
  {
   "cell_type": "markdown",
   "metadata": {},
   "source": [
    "**Interpreting and Describing the Model Results**"
   ]
  },
  {
   "cell_type": "markdown",
   "metadata": {},
   "source": [
    "*The results show that the model performs slightly better on the validation set than on the training set, with lower MAE, MSE, and RMSE values for the validation data. This is unusual because models typically perform better on training data due to overfitting.*\n",
    "\n",
    "*The similar performance across both sets indicates the model might be too simple and lacks sufficient predictive power, as evidenced by the relatively low R² values (0.2029 for training and 0.1531 for validation).*"
   ]
  },
  {
   "cell_type": "markdown",
   "metadata": {},
   "source": [
    "**Overfitting Risk and Accuracy Comparison Between MLR and SLR Models**"
   ]
  },
  {
   "cell_type": "markdown",
   "metadata": {},
   "source": [
    "***Overfitting Risk***\n",
    "\n",
    "*Overfitting occurs when a model learns the training data too well, including noise and outliers, and performs poorly on new, unseen data.*\n",
    "\n",
    "*In this case, the training set performance metrics (MAE: 1.1010, MSE: 2.4054, RMSE: 1.5509, R²: 0.2029) are relatively close to the validation set performance metrics (MAE: 1.0558, MSE: 2.2343, RMSE: 1.4948, R²: 0.1531).*\n",
    "\n",
    "*The slight gap between training and validation performance indicates minimal overfitting. The model generalizes reasonably well across both datasets.*\n",
    "\n",
    "***MLR vs. SLR Model Accuracy***\n",
    "\n",
    "*The SLR model used only one predictor, dependents, and achieved an R² of 0.1004.*\n",
    "\n",
    "*The MLR model with predictors age, dependents, majorcards, and active increased the R² to 0.2029, which suggests improved explanatory power when more predictors are added.*\n",
    "\n",
    "*However, the R² is still relatively low, indicating the model only explains about 20.29% of the variation in income, suggesting the predictors may not fully capture the underlying relationship.*"
   ]
  },
  {
   "cell_type": "markdown",
   "metadata": {},
   "source": [
    "**Limitations of Predicting Income Using Available Variables**"
   ]
  },
  {
   "cell_type": "markdown",
   "metadata": {},
   "source": [
    "***Limitation of Predicting Income with Available Variables:***\n",
    "\n",
    "*One significant limitation of using the current set of variables to predict income is the lack of direct income determinants. The features available primarily describe demographic and behavioral patterns (e.g., age, dependents, credit usage patterns) but miss some key drivers of income.*\n",
    "\n",
    "***Absence of Key Economic Indicators:***\n",
    "\n",
    "*There is no information about employment type, education level, industry, job tenure, or skills, which are critical factors in determining a person’s income.*\n",
    "\n",
    "***Static Variables for a Dynamic Outcome:***\n",
    "\n",
    "*The dataset only captures a snapshot of credit behavior and demographics. Income, however, can change dynamically with job changes, promotions, and economic conditions, none of which are captured here.*\n",
    "\n",
    "***Potential Non-Linear Relationships:***\n",
    "\n",
    "*The relationship between these predictors and income may not be linear, yet the model assumes linear relationships. For instance, age might have a non-linear impact on income, peaking at mid-career stages and flattening or declining later.*\n",
    "\n",
    "***Credit-Focused Data Bias:***\n",
    "\n",
    "*All predictors relate to credit behavior or demographic factors tied to creditworthiness, which may correlate with income but do not directly explain it. For example, active accounts or major credit cards might reflect credit access but not income level directly.*\n",
    "\n",
    "***Missing Socioeconomic Context:***\n",
    "\n",
    "*Factors like location, cost of living, education, family background, and work history are absent. Two individuals with similar credit profiles might have vastly different incomes based on location or educational background.*"
   ]
  }
 ],
 "metadata": {
  "kernelspec": {
   "display_name": "Python 3",
   "language": "python",
   "name": "python3"
  },
  "language_info": {
   "codemirror_mode": {
    "name": "ipython",
    "version": 3
   },
   "file_extension": ".py",
   "mimetype": "text/x-python",
   "name": "python",
   "nbconvert_exporter": "python",
   "pygments_lexer": "ipython3",
   "version": "3.12.1"
  }
 },
 "nbformat": 4,
 "nbformat_minor": 2
}
