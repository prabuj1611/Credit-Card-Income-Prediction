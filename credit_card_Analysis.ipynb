{
 "cells": [
  {
   "cell_type": "markdown",
   "metadata": {},
   "source": [
    "# **Simple Linear Regression**"
   ]
  },
  {
   "cell_type": "code",
   "execution_count": 2,
   "metadata": {},
   "outputs": [],
   "source": [
    "# Loading libraries:\n",
    "import numpy as np\n",
    "import pandas as pd\n",
    "import seaborn as sns\n",
    "from scipy import stats\n",
    "import statsmodels.api as sm\n",
    "import matplotlib.pyplot as plt\n",
    "from scipy.stats import pearsonr\n",
    "from sklearn.linear_model import LinearRegression\n",
    "from sklearn.model_selection import train_test_split\n",
    "from sklearn.metrics import mean_absolute_error, mean_squared_error, r2_score"
   ]
  },
  {
   "cell_type": "markdown",
   "metadata": {},
   "source": [
    "**Reading the file using pandas.**"
   ]
  },
  {
   "cell_type": "code",
   "execution_count": 3,
   "metadata": {},
   "outputs": [],
   "source": [
    "CreditCard = r'C:\\Users\\prabu\\Git hub Repository\\Credit-Card-Income-Prediction-1\\CreditCard.csv'\n",
    "df = pd.read_csv(CreditCard)"
   ]
  },
  {
   "cell_type": "markdown",
   "metadata": {},
   "source": [
    "**Describing the dataset**"
   ]
  },
  {
   "cell_type": "code",
   "execution_count": 4,
   "metadata": {},
   "outputs": [
    {
     "data": {
      "application/vnd.microsoft.datawrangler.viewer.v0+json": {
       "columns": [
        {
         "name": "index",
         "rawType": "object",
         "type": "string"
        },
        {
         "name": "rownames",
         "rawType": "float64",
         "type": "float"
        },
        {
         "name": "reports",
         "rawType": "float64",
         "type": "float"
        },
        {
         "name": "age",
         "rawType": "float64",
         "type": "float"
        },
        {
         "name": "income",
         "rawType": "float64",
         "type": "float"
        },
        {
         "name": "share",
         "rawType": "float64",
         "type": "float"
        },
        {
         "name": "expenditure",
         "rawType": "float64",
         "type": "float"
        },
        {
         "name": "dependents",
         "rawType": "float64",
         "type": "float"
        },
        {
         "name": "months",
         "rawType": "float64",
         "type": "float"
        },
        {
         "name": "majorcards",
         "rawType": "float64",
         "type": "float"
        },
        {
         "name": "active",
         "rawType": "float64",
         "type": "float"
        }
       ],
       "conversionMethod": "pd.DataFrame",
       "ref": "45ccfa51-4599-4e57-993a-ca8a4dbf6ea3",
       "rows": [
        [
         "count",
         "1319.0",
         "1319.0",
         "1319.0",
         "1319.0",
         "1319.0",
         "1319.0",
         "1319.0",
         "1319.0",
         "1319.0",
         "1319.0"
        ],
        [
         "mean",
         "660.0",
         "0.4564063684609553",
         "33.21310325496589",
         "3.3653760424564068",
         "0.06873217313987869",
         "185.05707077839273",
         "0.9939347990902199",
         "55.26762699014405",
         "0.8172858225928734",
         "6.99696739954511"
        ],
        [
         "std",
         "380.9068127508354",
         "1.3452674780113136",
         "10.142783154539721",
         "1.6939017383269124",
         "0.0946555652558556",
         "272.21891749553544",
         "1.2477450004043018",
         "66.2717455231354",
         "0.3865785909932502",
         "6.305812278353337"
        ],
        [
         "min",
         "1.0",
         "0.0",
         "0.1666667",
         "0.21",
         "0.0001090909",
         "0.0",
         "0.0",
         "0.0",
         "0.0",
         "0.0"
        ],
        [
         "25%",
         "330.5",
         "0.0",
         "25.41667",
         "2.24375",
         "0.0023159225",
         "4.583333",
         "0.0",
         "12.0",
         "1.0",
         "2.0"
        ],
        [
         "50%",
         "660.0",
         "0.0",
         "31.25",
         "2.9",
         "0.03882722",
         "101.2983",
         "1.0",
         "30.0",
         "1.0",
         "6.0"
        ],
        [
         "75%",
         "989.5",
         "0.0",
         "39.41667",
         "4.0",
         "0.09361682499999999",
         "249.0358",
         "2.0",
         "72.0",
         "1.0",
         "11.0"
        ],
        [
         "max",
         "1319.0",
         "14.0",
         "83.5",
         "13.5",
         "0.9063205",
         "3099.505",
         "6.0",
         "540.0",
         "1.0",
         "46.0"
        ]
       ],
       "shape": {
        "columns": 10,
        "rows": 8
       }
      },
      "text/html": [
       "<div>\n",
       "<style scoped>\n",
       "    .dataframe tbody tr th:only-of-type {\n",
       "        vertical-align: middle;\n",
       "    }\n",
       "\n",
       "    .dataframe tbody tr th {\n",
       "        vertical-align: top;\n",
       "    }\n",
       "\n",
       "    .dataframe thead th {\n",
       "        text-align: right;\n",
       "    }\n",
       "</style>\n",
       "<table border=\"1\" class=\"dataframe\">\n",
       "  <thead>\n",
       "    <tr style=\"text-align: right;\">\n",
       "      <th></th>\n",
       "      <th>rownames</th>\n",
       "      <th>reports</th>\n",
       "      <th>age</th>\n",
       "      <th>income</th>\n",
       "      <th>share</th>\n",
       "      <th>expenditure</th>\n",
       "      <th>dependents</th>\n",
       "      <th>months</th>\n",
       "      <th>majorcards</th>\n",
       "      <th>active</th>\n",
       "    </tr>\n",
       "  </thead>\n",
       "  <tbody>\n",
       "    <tr>\n",
       "      <th>count</th>\n",
       "      <td>1319.000000</td>\n",
       "      <td>1319.000000</td>\n",
       "      <td>1319.000000</td>\n",
       "      <td>1319.000000</td>\n",
       "      <td>1319.000000</td>\n",
       "      <td>1319.000000</td>\n",
       "      <td>1319.000000</td>\n",
       "      <td>1319.000000</td>\n",
       "      <td>1319.000000</td>\n",
       "      <td>1319.000000</td>\n",
       "    </tr>\n",
       "    <tr>\n",
       "      <th>mean</th>\n",
       "      <td>660.000000</td>\n",
       "      <td>0.456406</td>\n",
       "      <td>33.213103</td>\n",
       "      <td>3.365376</td>\n",
       "      <td>0.068732</td>\n",
       "      <td>185.057071</td>\n",
       "      <td>0.993935</td>\n",
       "      <td>55.267627</td>\n",
       "      <td>0.817286</td>\n",
       "      <td>6.996967</td>\n",
       "    </tr>\n",
       "    <tr>\n",
       "      <th>std</th>\n",
       "      <td>380.906813</td>\n",
       "      <td>1.345267</td>\n",
       "      <td>10.142783</td>\n",
       "      <td>1.693902</td>\n",
       "      <td>0.094656</td>\n",
       "      <td>272.218917</td>\n",
       "      <td>1.247745</td>\n",
       "      <td>66.271746</td>\n",
       "      <td>0.386579</td>\n",
       "      <td>6.305812</td>\n",
       "    </tr>\n",
       "    <tr>\n",
       "      <th>min</th>\n",
       "      <td>1.000000</td>\n",
       "      <td>0.000000</td>\n",
       "      <td>0.166667</td>\n",
       "      <td>0.210000</td>\n",
       "      <td>0.000109</td>\n",
       "      <td>0.000000</td>\n",
       "      <td>0.000000</td>\n",
       "      <td>0.000000</td>\n",
       "      <td>0.000000</td>\n",
       "      <td>0.000000</td>\n",
       "    </tr>\n",
       "    <tr>\n",
       "      <th>25%</th>\n",
       "      <td>330.500000</td>\n",
       "      <td>0.000000</td>\n",
       "      <td>25.416670</td>\n",
       "      <td>2.243750</td>\n",
       "      <td>0.002316</td>\n",
       "      <td>4.583333</td>\n",
       "      <td>0.000000</td>\n",
       "      <td>12.000000</td>\n",
       "      <td>1.000000</td>\n",
       "      <td>2.000000</td>\n",
       "    </tr>\n",
       "    <tr>\n",
       "      <th>50%</th>\n",
       "      <td>660.000000</td>\n",
       "      <td>0.000000</td>\n",
       "      <td>31.250000</td>\n",
       "      <td>2.900000</td>\n",
       "      <td>0.038827</td>\n",
       "      <td>101.298300</td>\n",
       "      <td>1.000000</td>\n",
       "      <td>30.000000</td>\n",
       "      <td>1.000000</td>\n",
       "      <td>6.000000</td>\n",
       "    </tr>\n",
       "    <tr>\n",
       "      <th>75%</th>\n",
       "      <td>989.500000</td>\n",
       "      <td>0.000000</td>\n",
       "      <td>39.416670</td>\n",
       "      <td>4.000000</td>\n",
       "      <td>0.093617</td>\n",
       "      <td>249.035800</td>\n",
       "      <td>2.000000</td>\n",
       "      <td>72.000000</td>\n",
       "      <td>1.000000</td>\n",
       "      <td>11.000000</td>\n",
       "    </tr>\n",
       "    <tr>\n",
       "      <th>max</th>\n",
       "      <td>1319.000000</td>\n",
       "      <td>14.000000</td>\n",
       "      <td>83.500000</td>\n",
       "      <td>13.500000</td>\n",
       "      <td>0.906320</td>\n",
       "      <td>3099.505000</td>\n",
       "      <td>6.000000</td>\n",
       "      <td>540.000000</td>\n",
       "      <td>1.000000</td>\n",
       "      <td>46.000000</td>\n",
       "    </tr>\n",
       "  </tbody>\n",
       "</table>\n",
       "</div>"
      ],
      "text/plain": [
       "          rownames      reports          age       income        share  \\\n",
       "count  1319.000000  1319.000000  1319.000000  1319.000000  1319.000000   \n",
       "mean    660.000000     0.456406    33.213103     3.365376     0.068732   \n",
       "std     380.906813     1.345267    10.142783     1.693902     0.094656   \n",
       "min       1.000000     0.000000     0.166667     0.210000     0.000109   \n",
       "25%     330.500000     0.000000    25.416670     2.243750     0.002316   \n",
       "50%     660.000000     0.000000    31.250000     2.900000     0.038827   \n",
       "75%     989.500000     0.000000    39.416670     4.000000     0.093617   \n",
       "max    1319.000000    14.000000    83.500000    13.500000     0.906320   \n",
       "\n",
       "       expenditure   dependents       months   majorcards       active  \n",
       "count  1319.000000  1319.000000  1319.000000  1319.000000  1319.000000  \n",
       "mean    185.057071     0.993935    55.267627     0.817286     6.996967  \n",
       "std     272.218917     1.247745    66.271746     0.386579     6.305812  \n",
       "min       0.000000     0.000000     0.000000     0.000000     0.000000  \n",
       "25%       4.583333     0.000000    12.000000     1.000000     2.000000  \n",
       "50%     101.298300     1.000000    30.000000     1.000000     6.000000  \n",
       "75%     249.035800     2.000000    72.000000     1.000000    11.000000  \n",
       "max    3099.505000     6.000000   540.000000     1.000000    46.000000  "
      ]
     },
     "execution_count": 4,
     "metadata": {},
     "output_type": "execute_result"
    }
   ],
   "source": [
    "df.describe()"
   ]
  },
  {
   "cell_type": "markdown",
   "metadata": {},
   "source": [
    "**Shape**"
   ]
  },
  {
   "cell_type": "code",
   "execution_count": 5,
   "metadata": {},
   "outputs": [
    {
     "name": "stdout",
     "output_type": "stream",
     "text": [
      "<class 'pandas.core.frame.DataFrame'>\n",
      "RangeIndex: 1319 entries, 0 to 1318\n",
      "Data columns (total 13 columns):\n",
      " #   Column       Non-Null Count  Dtype  \n",
      "---  ------       --------------  -----  \n",
      " 0   rownames     1319 non-null   int64  \n",
      " 1   card         1319 non-null   object \n",
      " 2   reports      1319 non-null   int64  \n",
      " 3   age          1319 non-null   float64\n",
      " 4   income       1319 non-null   float64\n",
      " 5   share        1319 non-null   float64\n",
      " 6   expenditure  1319 non-null   float64\n",
      " 7   owner        1319 non-null   object \n",
      " 8   selfemp      1319 non-null   object \n",
      " 9   dependents   1319 non-null   int64  \n",
      " 10  months       1319 non-null   int64  \n",
      " 11  majorcards   1319 non-null   int64  \n",
      " 12  active       1319 non-null   int64  \n",
      "dtypes: float64(4), int64(6), object(3)\n",
      "memory usage: 134.1+ KB\n"
     ]
    }
   ],
   "source": [
    "df.info()"
   ]
  },
  {
   "cell_type": "markdown",
   "metadata": {},
   "source": [
    "**I used a seed value based on the last 3 digits of my BU ID to create a data partition, assigning approximately 60% of the records to my training set and the other 40% to my validation (or test) set.**"
   ]
  },
  {
   "cell_type": "code",
   "execution_count": 6,
   "metadata": {},
   "outputs": [
    {
     "name": "stdout",
     "output_type": "stream",
     "text": [
      "Training set size: 791 rows\n",
      "Validation set size: 528 rows\n"
     ]
    }
   ],
   "source": [
    "# Partitioning the dataset into training (60%) and validation (40%) sets:\n",
    "X = df.drop('income', axis=1)\n",
    "y = df['income']\n",
    "\n",
    "# Creating a 60-40 train-test split with random_state = 218 (last 3 digits of my BU ID):\n",
    "X_train, X_test, y_train, y_test = train_test_split(X, y, test_size=0.4, random_state=218, shuffle=False)\n",
    "\n",
    "# Partition details:\n",
    "print(f\"Training set size: {len(X_train)} rows\")\n",
    "print(f\"Validation set size: {len(X_test)} rows\")"
   ]
  },
  {
   "cell_type": "markdown",
   "metadata": {},
   "source": [
    "**It important to partition the data before doing any sort of in-depth analysis of\n",
    "the variables**"
   ]
  },
  {
   "cell_type": "markdown",
   "metadata": {},
   "source": [
    "***Avoids Overfitting:***\n",
    "\n",
    "*Partitioning the data ensures that the model does not memorize the training data but learns patterns that generalize well to unseen data.*\n",
    "\n",
    "***Reliable Performance Assessment:***\n",
    "\n",
    "*By setting aside a validation set, we can accurately assess how the model performs on new data, providing a trustworthy estimate of real-world performance.*\n",
    "\n",
    "***Enhances Model Selection:***\n",
    "\n",
    "*Partitioning allows for fair comparisons between different models or algorithms by evaluating each one on the same, unseen validation set.*\n",
    "\n",
    "***Prevents Data Snooping Bias:***\n",
    "\n",
    "*Analyzing the full dataset before partitioning can lead to insights from the test data influencing the model, introducing bias and inflating performance metrics.*\n",
    "\n",
    "***Supports Robust Feature Engineering:***\n",
    "\n",
    "*Data partitioning enables more objective feature selection by ensuring that feature engineering decisions are validated on independent data.*"
   ]
  },
  {
   "cell_type": "markdown",
   "metadata": {},
   "source": [
    "**Exploring the Relationship Between Income and Dependents**"
   ]
  },
  {
   "cell_type": "markdown",
   "metadata": {},
   "source": [
    "**Creating a scatterplot that depicts income on the y-axis and dependents on the x-axis.**"
   ]
  },
  {
   "cell_type": "markdown",
   "metadata": {},
   "source": [
    "**Adding a best-fit line to this scatterplot. Using only your training set data to build this plot.**"
   ]
  },
  {
   "cell_type": "code",
   "execution_count": 7,
   "metadata": {},
   "outputs": [
    {
     "data": {
      "image/png": "[encoded data removed]",
      "text/plain": [
       "<Figure size 800x500 with 1 Axes>"
      ]
     },
     "metadata": {},
     "output_type": "display_data"
    }
   ],
   "source": [
    "# Separating features and target\n",
    "X = df[['dependents']]\n",
    "y = df['income']\n",
    "\n",
    "# Creating a 60-40 train-test split with random_state = 218 (last 3 digits of my BU ID):\n",
    "X_train, X_test, y_train, y_test = train_test_split(X, y, test_size=0.4, random_state=218,shuffle=False)\n",
    "\n",
    "# Initializing and training the Linear Regression model on training data only\n",
    "model = LinearRegression()\n",
    "model.fit(X_train, y_train)\n",
    "\n",
    "# Generating predictions for the best-fit line using training data only\n",
    "x_range = pd.DataFrame(np.linspace(X_train['dependents'].min(), X_train['dependents'].max(), 100), columns=['dependents'])\n",
    "y_pred_line = model.predict(x_range)\n",
    "\n",
    "# Creating scatterplot using only the training set\n",
    "plt.figure(figsize=(8, 5))\n",
    "plt.scatter(X_train['dependents'], y_train,color='violet', alpha=0.7, label='Training Data')\n",
    "\n",
    "# Ploting the best-fit line derived from training data\n",
    "plt.plot(x_range, y_pred_line, color='green', linewidth=2, label='Best-Fit Line (Training Data)')\n",
    "\n",
    "# Adding title, labels, and legend\n",
    "plt.title('Income vs. Dependents (Training Data Only)', fontsize=14)\n",
    "plt.xlabel('Number of Dependents', fontsize=12)\n",
    "plt.ylabel('Income  (in USD 10,000)', fontsize=12)\n",
    "plt.grid(True, linestyle='--', alpha=0.7)\n",
    "plt.legend()\n",
    "\n",
    "# The plot\n",
    "plt.show()"
   ]
  },
  {
   "cell_type": "code",
   "execution_count": null,
   "metadata": {},
   "outputs": [],
   "source": []
  },
  {
   "cell_type": "code",
   "execution_count": null,
   "metadata": {},
   "outputs": [],
   "source": []
  },
  {
   "cell_type": "code",
   "execution_count": null,
   "metadata": {},
   "outputs": [],
   "source": []
  },
  {
   "cell_type": "code",
   "execution_count": null,
   "metadata": {},
   "outputs": [],
   "source": []
  }
 ],
 "metadata": {
  "kernelspec": {
   "display_name": "Python 3",
   "language": "python",
   "name": "python3"
  },
  "language_info": {
   "codemirror_mode": {
    "name": "ipython",
    "version": 3
   },
   "file_extension": ".py",
   "mimetype": "text/x-python",
   "name": "python",
   "nbconvert_exporter": "python",
   "pygments_lexer": "ipython3",
   "version": "3.13.2"
  }
 },
 "nbformat": 4,
 "nbformat_minor": 2
}
