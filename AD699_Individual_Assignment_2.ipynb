{
 "cells": [
  {
   "cell_type": "markdown",
   "metadata": {
    "id": "bpj_DZSGCLCk"
   },
   "source": [
    "# **AD699 Data Mining for Business Analytics**\n",
    "\n",
    "# **Individual Assignment 2**\n",
    "\n",
    "**Section A2**\n",
    "\n",
    "**Spring 2025**\n",
    "\n",
    "**Submitted By: Prabu Jeyabalan**\n",
    "\n",
    "**BU ID: U79959218**"
   ]
  },
  {
   "cell_type": "markdown",
   "metadata": {
    "id": "EdkPVwgwaVNx"
   },
   "source": [
    "# **Part I: Simple Linear Regression**"
   ]
  },
  {
   "cell_type": "code",
   "execution_count": 43,
   "metadata": {
    "id": "Z8HCq_rfapyW"
   },
   "outputs": [],
   "source": [
    "# Loading libraries:\n",
    "import numpy as np\n",
    "import pandas as pd\n",
    "import seaborn as sns\n",
    "from scipy import stats\n",
    "import statsmodels.api as sm\n",
    "import matplotlib.pyplot as plt\n",
    "from scipy.stats import pearsonr\n",
    "from sklearn.linear_model import LinearRegression\n",
    "from sklearn.model_selection import train_test_split\n",
    "from sklearn.metrics import mean_absolute_error, mean_squared_error, r2_score"
   ]
  },
  {
   "cell_type": "markdown",
   "metadata": {
    "id": "dYIkPeudagxH"
   },
   "source": [
    "**1. Download the file CreditCard.csv.**\n",
    "\n",
    "**2. Read this file using pandas.**\n",
    "\n",
    "\n",
    "\n",
    "\n"
   ]
  },
  {
   "cell_type": "code",
   "execution_count": 45,
   "metadata": {
    "id": "2cuoIm1ZZsn3"
   },
   "outputs": [],
   "source": [
    "df = pd.read_csv('C:\\\\Users\\\\prabu\\\\Desktop\\\\AD 699\\\\Assignments\\\\Assignment 2\\\\CreditCard.csv')"
   ]
  },
  {
   "cell_type": "markdown",
   "metadata": {
    "id": "4EMKfmmCctx4"
   },
   "source": [
    "**3. Describe the dataset.**"
   ]
  },
  {
   "cell_type": "code",
   "execution_count": 47,
   "metadata": {
    "colab": {
     "base_uri": "https://localhost:8080/",
     "height": 300
    },
    "id": "c9v39LaHZwes",
    "outputId": "12ae4b93-421a-4a74-d157-037809fcfe7c"
   },
   "outputs": [
    {
     "data": {
      "text/html": [
       "<div>\n",
       "<style scoped>\n",
       "    .dataframe tbody tr th:only-of-type {\n",
       "        vertical-align: middle;\n",
       "    }\n",
       "\n",
       "    .dataframe tbody tr th {\n",
       "        vertical-align: top;\n",
       "    }\n",
       "\n",
       "    .dataframe thead th {\n",
       "        text-align: right;\n",
       "    }\n",
       "</style>\n",
       "<table border=\"1\" class=\"dataframe\">\n",
       "  <thead>\n",
       "    <tr style=\"text-align: right;\">\n",
       "      <th></th>\n",
       "      <th>rownames</th>\n",
       "      <th>reports</th>\n",
       "      <th>age</th>\n",
       "      <th>income</th>\n",
       "      <th>share</th>\n",
       "      <th>expenditure</th>\n",
       "      <th>dependents</th>\n",
       "      <th>months</th>\n",
       "      <th>majorcards</th>\n",
       "      <th>active</th>\n",
       "    </tr>\n",
       "  </thead>\n",
       "  <tbody>\n",
       "    <tr>\n",
       "      <th>count</th>\n",
       "      <td>1319.000000</td>\n",
       "      <td>1319.000000</td>\n",
       "      <td>1319.000000</td>\n",
       "      <td>1319.000000</td>\n",
       "      <td>1319.000000</td>\n",
       "      <td>1319.000000</td>\n",
       "      <td>1319.000000</td>\n",
       "      <td>1319.000000</td>\n",
       "      <td>1319.000000</td>\n",
       "      <td>1319.000000</td>\n",
       "    </tr>\n",
       "    <tr>\n",
       "      <th>mean</th>\n",
       "      <td>660.000000</td>\n",
       "      <td>0.456406</td>\n",
       "      <td>33.213103</td>\n",
       "      <td>3.365376</td>\n",
       "      <td>0.068732</td>\n",
       "      <td>185.057071</td>\n",
       "      <td>0.993935</td>\n",
       "      <td>55.267627</td>\n",
       "      <td>0.817286</td>\n",
       "      <td>6.996967</td>\n",
       "    </tr>\n",
       "    <tr>\n",
       "      <th>std</th>\n",
       "      <td>380.906813</td>\n",
       "      <td>1.345267</td>\n",
       "      <td>10.142783</td>\n",
       "      <td>1.693902</td>\n",
       "      <td>0.094656</td>\n",
       "      <td>272.218917</td>\n",
       "      <td>1.247745</td>\n",
       "      <td>66.271746</td>\n",
       "      <td>0.386579</td>\n",
       "      <td>6.305812</td>\n",
       "    </tr>\n",
       "    <tr>\n",
       "      <th>min</th>\n",
       "      <td>1.000000</td>\n",
       "      <td>0.000000</td>\n",
       "      <td>0.166667</td>\n",
       "      <td>0.210000</td>\n",
       "      <td>0.000109</td>\n",
       "      <td>0.000000</td>\n",
       "      <td>0.000000</td>\n",
       "      <td>0.000000</td>\n",
       "      <td>0.000000</td>\n",
       "      <td>0.000000</td>\n",
       "    </tr>\n",
       "    <tr>\n",
       "      <th>25%</th>\n",
       "      <td>330.500000</td>\n",
       "      <td>0.000000</td>\n",
       "      <td>25.416670</td>\n",
       "      <td>2.243750</td>\n",
       "      <td>0.002316</td>\n",
       "      <td>4.583333</td>\n",
       "      <td>0.000000</td>\n",
       "      <td>12.000000</td>\n",
       "      <td>1.000000</td>\n",
       "      <td>2.000000</td>\n",
       "    </tr>\n",
       "    <tr>\n",
       "      <th>50%</th>\n",
       "      <td>660.000000</td>\n",
       "      <td>0.000000</td>\n",
       "      <td>31.250000</td>\n",
       "      <td>2.900000</td>\n",
       "      <td>0.038827</td>\n",
       "      <td>101.298300</td>\n",
       "      <td>1.000000</td>\n",
       "      <td>30.000000</td>\n",
       "      <td>1.000000</td>\n",
       "      <td>6.000000</td>\n",
       "    </tr>\n",
       "    <tr>\n",
       "      <th>75%</th>\n",
       "      <td>989.500000</td>\n",
       "      <td>0.000000</td>\n",
       "      <td>39.416670</td>\n",
       "      <td>4.000000</td>\n",
       "      <td>0.093617</td>\n",
       "      <td>249.035800</td>\n",
       "      <td>2.000000</td>\n",
       "      <td>72.000000</td>\n",
       "      <td>1.000000</td>\n",
       "      <td>11.000000</td>\n",
       "    </tr>\n",
       "    <tr>\n",
       "      <th>max</th>\n",
       "      <td>1319.000000</td>\n",
       "      <td>14.000000</td>\n",
       "      <td>83.500000</td>\n",
       "      <td>13.500000</td>\n",
       "      <td>0.906320</td>\n",
       "      <td>3099.505000</td>\n",
       "      <td>6.000000</td>\n",
       "      <td>540.000000</td>\n",
       "      <td>1.000000</td>\n",
       "      <td>46.000000</td>\n",
       "    </tr>\n",
       "  </tbody>\n",
       "</table>\n",
       "</div>"
      ],
      "text/plain": [
       "          rownames      reports          age       income        share  \\\n",
       "count  1319.000000  1319.000000  1319.000000  1319.000000  1319.000000   \n",
       "mean    660.000000     0.456406    33.213103     3.365376     0.068732   \n",
       "std     380.906813     1.345267    10.142783     1.693902     0.094656   \n",
       "min       1.000000     0.000000     0.166667     0.210000     0.000109   \n",
       "25%     330.500000     0.000000    25.416670     2.243750     0.002316   \n",
       "50%     660.000000     0.000000    31.250000     2.900000     0.038827   \n",
       "75%     989.500000     0.000000    39.416670     4.000000     0.093617   \n",
       "max    1319.000000    14.000000    83.500000    13.500000     0.906320   \n",
       "\n",
       "       expenditure   dependents       months   majorcards       active  \n",
       "count  1319.000000  1319.000000  1319.000000  1319.000000  1319.000000  \n",
       "mean    185.057071     0.993935    55.267627     0.817286     6.996967  \n",
       "std     272.218917     1.247745    66.271746     0.386579     6.305812  \n",
       "min       0.000000     0.000000     0.000000     0.000000     0.000000  \n",
       "25%       4.583333     0.000000    12.000000     1.000000     2.000000  \n",
       "50%     101.298300     1.000000    30.000000     1.000000     6.000000  \n",
       "75%     249.035800     2.000000    72.000000     1.000000    11.000000  \n",
       "max    3099.505000     6.000000   540.000000     1.000000    46.000000  "
      ]
     },
     "execution_count": 47,
     "metadata": {},
     "output_type": "execute_result"
    }
   ],
   "source": [
    "df.describe()"
   ]
  },
  {
   "cell_type": "markdown",
   "metadata": {
    "id": "Kc37Ed-Ddi1G"
   },
   "source": [
    "**4. How many rows and how many columns does your dataframe contain?**"
   ]
  },
  {
   "cell_type": "code",
   "execution_count": 49,
   "metadata": {
    "colab": {
     "base_uri": "https://localhost:8080/"
    },
    "id": "e0N7aLwrZwbK",
    "outputId": "2bbc3fe2-66bb-49fa-de4c-7c6569207ab1"
   },
   "outputs": [
    {
     "data": {
      "text/plain": [
       "(1319, 13)"
      ]
     },
     "execution_count": 49,
     "metadata": {},
     "output_type": "execute_result"
    }
   ],
   "source": [
    "df.shape"
   ]
  },
  {
   "cell_type": "markdown",
   "metadata": {
    "id": "R-KbjtAod3rn"
   },
   "source": [
    "*The dataframe has 1319 rows and 13 columns.*"
   ]
  },
  {
   "cell_type": "markdown",
   "metadata": {
    "id": "wfj1sbWAeH3m"
   },
   "source": [
    "**5. Using a seed value based on last 3 digits of your BU ID, create a data partition. Assign approximately 60% of the records to your training set, and the other 40% to your\n",
    "validation (or test) set.**"
   ]
  },
  {
   "cell_type": "code",
   "execution_count": 52,
   "metadata": {
    "colab": {
     "base_uri": "https://localhost:8080/"
    },
    "id": "dzESfVpZZwVx",
    "outputId": "95cf0d09-088e-45c3-f060-e7f1e0968978"
   },
   "outputs": [
    {
     "name": "stdout",
     "output_type": "stream",
     "text": [
      "Training set size: 791 rows\n",
      "Validation set size: 528 rows\n"
     ]
    }
   ],
   "source": [
    "# Partitioning the dataset into training (60%) and validation (40%) sets:\n",
    "X = df.drop('income', axis=1)\n",
    "y = df['income']\n",
    "\n",
    "# Creating a 60-40 train-test split with random_state = 218 (last 3 digits of my BU ID):\n",
    "X_train, X_test, y_train, y_test = train_test_split(X, y, test_size=0.4, random_state=218, shuffle=False)\n",
    "\n",
    "# Partition details:\n",
    "print(f\"Training set size: {len(X_train)} rows\")\n",
    "print(f\"Validation set size: {len(X_test)} rows\")"
   ]
  },
  {
   "cell_type": "markdown",
   "metadata": {
    "id": "JZGvmSw-lb-s"
   },
   "source": [
    "**6. Why is it important to partition the data before doing any sort of in-depth analysis of\n",
    "the variables?**\n"
   ]
  },
  {
   "cell_type": "markdown",
   "metadata": {
    "id": "hrAdBNAanf_V"
   },
   "source": [
    "***Avoids Overfitting:***\n",
    "\n",
    "*Partitioning the data ensures that the model does not memorize the training data but learns patterns that generalize well to unseen data.*\n",
    "\n",
    "***Reliable Performance Assessment:***\n",
    "\n",
    "*By setting aside a validation set, we can accurately assess how the model performs on new data, providing a trustworthy estimate of real-world performance.*\n",
    "\n",
    "***Enhances Model Selection:***\n",
    "\n",
    "*Partitioning allows for fair comparisons between different models or algorithms by evaluating each one on the same, unseen validation set.*\n",
    "\n",
    "***Prevents Data Snooping Bias:***\n",
    "\n",
    "*Analyzing the full dataset before partitioning can lead to insights from the test data influencing the model, introducing bias and inflating performance metrics.*\n",
    "\n",
    "***Supports Robust Feature Engineering:***\n",
    "\n",
    "*Data partitioning enables more objective feature selection by ensuring that feature engineering decisions are validated on independent data.*"
   ]
  },
  {
   "cell_type": "markdown",
   "metadata": {
    "id": "-jo2hPTan9k_"
   },
   "source": [
    "# **Drilling further**\n"
   ]
  },
  {
   "cell_type": "markdown",
   "metadata": {
    "id": "qOru7pDFoPME"
   },
   "source": [
    "**Explore the relationship between income and dependents.**\n",
    "\n",
    "**1. Create a scatterplot that depicts income on the y-axis and dependents on the x-axis.**"
   ]
  },
  {
   "cell_type": "markdown",
   "metadata": {
    "id": "qnM9JVIztjjl"
   },
   "source": [
    "**2. Add a best-fit line to this scatterplot. Use only your training set data to build this plot.**"
   ]
  },
  {
   "cell_type": "code",
   "execution_count": 58,
   "metadata": {
    "colab": {
     "base_uri": "https://localhost:8080/",
     "height": 492
    },
    "id": "Yxi6VGolZ4yZ",
    "outputId": "dc321348-d325-43a3-e93f-9d0964f1a5a8"
   },
   "outputs": [
    {
     "data": {
      "image/png": "[encoded data removed]",
      "text/plain": [
       "<Figure size 800x500 with 1 Axes>"
      ]
     },
     "metadata": {},
     "output_type": "display_data"
    }
   ],
   "source": [
    "# Separating features and target\n",
    "X = df[['dependents']]\n",
    "y = df['income']\n",
    "\n",
    "# Creating a 60-40 train-test split with random_state = 218 (last 3 digits of my BU ID):\n",
    "X_train, X_test, y_train, y_test = train_test_split(X, y, test_size=0.4, random_state=218,shuffle=False)\n",
    "\n",
    "# Initializing and training the Linear Regression model on training data only\n",
    "model = LinearRegression()\n",
    "model.fit(X_train, y_train)\n",
    "\n",
    "# Generating predictions for the best-fit line using training data only\n",
    "x_range = pd.DataFrame(np.linspace(X_train['dependents'].min(), X_train['dependents'].max(), 100), columns=['dependents'])\n",
    "y_pred_line = model.predict(x_range)\n",
    "\n",
    "# Creating scatterplot using only the training set\n",
    "plt.figure(figsize=(8, 5))\n",
    "plt.scatter(X_train['dependents'], y_train,color='violet', alpha=0.7, label='Training Data')\n",
    "\n",
    "# Ploting the best-fit line derived from training data\n",
    "plt.plot(x_range, y_pred_line, color='green', linewidth=2, label='Best-Fit Line (Training Data)')\n",
    "\n",
    "# Adding title, labels, and legend\n",
    "plt.title('Income vs. Dependents (Training Data Only)', fontsize=14)\n",
    "plt.xlabel('Number of Dependents', fontsize=12)\n",
    "plt.ylabel('Income  (in USD 10,000)', fontsize=12)\n",
    "plt.grid(True, linestyle='--', alpha=0.7)\n",
    "plt.legend()\n",
    "\n",
    "# The plot\n",
    "plt.show()\n"
   ]
  },
  {
   "cell_type": "markdown",
   "metadata": {
    "id": "oxhmSlk9x8Uj"
   },
   "source": [
    "**3. What does this plot suggest about the relationship between these variables? Does this\n",
    "make intuitive sense to you? Why or why not?**\n"
   ]
  },
  {
   "cell_type": "markdown",
   "metadata": {
    "id": "8-RNLrusw9TR"
   },
   "source": [
    "***Relationship Between Variables***\n",
    "\n",
    "*The scatterplot shows a positive relationship between income and number of dependents.*\n",
    "\n",
    "*The best-fit line has a slight upward slope, indicating that as the number of dependents increases, income tends to increase.*\n",
    "\n",
    "*The positive trend suggests that individuals with more dependents might generally have higher incomes.*\n",
    "\n",
    "\n",
    "***Strength of the Relationship***\n",
    "\n",
    "*The data points are widely scattered around the best-fit line, which indicates a weak linear relationship.*\n",
    "\n",
    "*The variance in income appears to be large for any given number of dependents, which implies that dependents alone do not strongly explain variations in income.*\n",
    "\n",
    "*This suggests that other factors, such as education level, job type, or work experience, may have a more significant impact on income.*\n",
    "\n",
    "\n",
    "***Does This Make Intuitive Sense?***\n",
    "\n",
    "*Yes, this relationship makes intuitive sense to some extent.*\n",
    "\n",
    "***Makes Sense Generally:***\n",
    "\n",
    "*More dependents often correlate with higher income because larger households usually need more financial resources.*\n",
    "\n",
    "*Individuals with greater family responsibilities may seek higher-paying jobs or pursue career growth to support dependents.*\n",
    "\n",
    "***less people have dependents of 5 and 6:***\n",
    "\n",
    "*There are very few data points for individuals with 5 or 6 dependents. The limited representation of these higher-dependent households makes it challenging for the model to accurately learn the pattern for these cases.*"
   ]
  },
  {
   "cell_type": "markdown",
   "metadata": {
    "id": "nQXAeGLWyR1u"
   },
   "source": [
    "**4. Using training set data only, find the correlation between income and dependents.**\n",
    "\n",
    "**1. What is this correlation?**\n"
   ]
  },
  {
   "cell_type": "code",
   "execution_count": 62,
   "metadata": {
    "colab": {
     "base_uri": "https://localhost:8080/"
    },
    "id": "7UP7S1nkumLK",
    "outputId": "a9836013-6c45-4f92-c0dd-f5d5550a318e"
   },
   "outputs": [
    {
     "name": "stdout",
     "output_type": "stream",
     "text": [
      "Correlation between income and dependents (Training Set Only): 0.3169\n"
     ]
    }
   ],
   "source": [
    "# Correlation between income and dependents using training set data only\n",
    "correlation = X_train['dependents'].corr(y_train)\n",
    "\n",
    "# Correlation value\n",
    "print(f\"Correlation between income and dependents (Training Set Only): {correlation:.4f}\")"
   ]
  },
  {
   "cell_type": "markdown",
   "metadata": {
    "id": "LbCHZKIEzGfp"
   },
   "source": [
    "**2. Is it a strong one?**"
   ]
  },
  {
   "cell_type": "markdown",
   "metadata": {
    "id": "jdYIlbodzL0i"
   },
   "source": [
    "*Weak Positive Correlation.*\n",
    "\n",
    "*Interpretation:*\n",
    "\n",
    "*While there is some positive relationship between the number of dependents and income, it is not particularly strong.*\n",
    "\n",
    "*The wide scatter of points around the best-fit line in the scatterplot supports this observation.*"
   ]
  },
  {
   "cell_type": "markdown",
   "metadata": {
    "id": "1h9rcv9kzg_4"
   },
   "source": [
    "**3. Is the correlation significant?**\n"
   ]
  },
  {
   "cell_type": "code",
   "execution_count": 66,
   "metadata": {
    "colab": {
     "base_uri": "https://localhost:8080/"
    },
    "id": "24vOLwinumHp",
    "outputId": "c3c0b903-dea6-4355-d525-1fbc0e751669"
   },
   "outputs": [
    {
     "name": "stdout",
     "output_type": "stream",
     "text": [
      "Correlation Coefficient: 0.3169\n",
      "P-value: 0.000000\n",
      "The correlation is statistically significant.\n"
     ]
    }
   ],
   "source": [
    "# Correlation coefficient and p-value using only the training set\n",
    "corr_coeff, p_value = pearsonr(X_train['dependents'], y_train)\n",
    "\n",
    "# Display the results\n",
    "print(f\"Correlation Coefficient: {corr_coeff:.4f}\")\n",
    "print(f\"P-value: {p_value:.6f}\")\n",
    "\n",
    "# Checking for significance\n",
    "if p_value < 0.05:\n",
    "    print(\"The correlation is statistically significant.\")\n",
    "else:\n",
    "    print(\"The correlation is NOT statistically significant.\")"
   ]
  },
  {
   "cell_type": "markdown",
   "metadata": {
    "id": "0a95rKuV0ZNh"
   },
   "source": [
    "*Yes, the correlation is statistically significant.*\n",
    "\n",
    "*P-value: 0.000000 (effectively 0), which is far below the 0.05 threshold.*\n",
    "\n",
    "***Significance Interpretation:***\n",
    "\n",
    "*The likelihood that this relationship occurred by random chance is almost zero.While the relationship is weak, it is statistically valid.*"
   ]
  },
  {
   "cell_type": "markdown",
   "metadata": {
    "id": "pQ1SBIEl07Ty"
   },
   "source": [
    "**5. Using your training set, create a simple linear regression model, with income as your outcome variable and dependents as your input variable. Summarize the results of your model.**"
   ]
  },
  {
   "cell_type": "code",
   "execution_count": 69,
   "metadata": {
    "colab": {
     "base_uri": "https://localhost:8080/"
    },
    "id": "QbxDZKhjyH7I",
    "outputId": "ec52d576-717e-454e-dd3f-f08ba038bccc"
   },
   "outputs": [
    {
     "name": "stdout",
     "output_type": "stream",
     "text": [
      "Simple Linear Regression Model Summary (Training Set Only):\n",
      "\n",
      "Mean Squared Error (MSE): 2.7145\n",
      "Mean Absolute Error (MAE): 1.1661\n",
      "\n",
      "Full Regression Summary (Statsmodels):\n",
      "                            OLS Regression Results                            \n",
      "==============================================================================\n",
      "Dep. Variable:                 income   R-squared:                       0.100\n",
      "Model:                            OLS   Adj. R-squared:                  0.099\n",
      "Method:                 Least Squares   F-statistic:                     88.10\n",
      "Date:                Sun, 16 Feb 2025   Prob (F-statistic):           6.49e-20\n",
      "Time:                        21:52:34   Log-Likelihood:                -1517.3\n",
      "No. Observations:                 791   AIC:                             3039.\n",
      "Df Residuals:                     789   BIC:                             3048.\n",
      "Df Model:                           1                                         \n",
      "Covariance Type:            nonrobust                                         \n",
      "==============================================================================\n",
      "                 coef    std err          t      P>|t|      [0.025      0.975]\n",
      "------------------------------------------------------------------------------\n",
      "const          2.9511      0.075     39.109      0.000       2.803       3.099\n",
      "dependents     0.4731      0.050      9.386      0.000       0.374       0.572\n",
      "==============================================================================\n",
      "Omnibus:                      321.902   Durbin-Watson:                   1.786\n",
      "Prob(Omnibus):                  0.000   Jarque-Bera (JB):             1376.154\n",
      "Skew:                           1.880   Prob(JB):                    1.49e-299\n",
      "Kurtosis:                       8.255   Cond. No.                         2.36\n",
      "==============================================================================\n",
      "\n",
      "Notes:\n",
      "[1] Standard Errors assume that the covariance matrix of the errors is correctly specified.\n"
     ]
    }
   ],
   "source": [
    "# Initializing and train the Simple Linear Regression model\n",
    "model = LinearRegression()\n",
    "model.fit(X_train, y_train)\n",
    "\n",
    "# Model predictions on the training set\n",
    "y_train_pred = model.predict(X_train)\n",
    "\n",
    "# Calculating performance metrics\n",
    "mse = mean_squared_error(y_train, y_train_pred)\n",
    "mae = mean_absolute_error(y_train, y_train_pred)\n",
    "r2 = r2_score(y_train, y_train_pred)\n",
    "\n",
    "# Model summary using sklearn\n",
    "print(\"Simple Linear Regression Model Summary (Training Set Only):\\n\")\n",
    "print(f\"Mean Squared Error (MSE): {mse:.4f}\")\n",
    "print(f\"Mean Absolute Error (MAE): {mae:.4f}\")\n",
    "\n",
    "# Detailed regression summary using statsmodels\n",
    "X_train_const = sm.add_constant(X_train)\n",
    "ols_model = sm.OLS(y_train, X_train_const).fit()\n",
    "\n",
    "# Display the full statistical summary\n",
    "print(\"\\nFull Regression Summary (Statsmodels):\")\n",
    "print(ols_model.summary())"
   ]
  },
  {
   "cell_type": "markdown",
   "metadata": {
    "id": "Ji-i7CHD3fvP"
   },
   "source": [
    "**6. What are the minimum (most negative) and maximum (most positive) residual values\n",
    "in this model?**\n"
   ]
  },
  {
   "cell_type": "code",
   "execution_count": 71,
   "metadata": {
    "colab": {
     "base_uri": "https://localhost:8080/"
    },
    "id": "LhZqe0HDyHqw",
    "outputId": "cbad557d-6e4c-464d-d2cd-a1b77dc0479e"
   },
   "outputs": [
    {
     "name": "stdout",
     "output_type": "stream",
     "text": [
      "Minimum Residual (Most Negative): -3.3433\n",
      "Maximum Residual (Most Positive): 9.6028\n"
     ]
    }
   ],
   "source": [
    "# Calculate residuals for the training set\n",
    "residuals = y_train - y_train_pred\n",
    "\n",
    "# Calculate minimum and maximum residual values\n",
    "min_residual = residuals.min()\n",
    "max_residual = residuals.max()\n",
    "\n",
    "# Print the results\n",
    "print(f\"Minimum Residual (Most Negative): {min_residual:.4f}\")\n",
    "print(f\"Maximum Residual (Most Positive): {max_residual:.4f}\")\n"
   ]
  },
  {
   "cell_type": "markdown",
   "metadata": {
    "id": "fL8BVIWN4CuD"
   },
   "source": [
    "**7. Find the observation whose rating generated the highest residual value in your model.\n",
    "What was that person’s actual income? What did the model predict that it would be?\n",
    "How is the residual calculated from the two numbers that you just found?**"
   ]
  },
  {
   "cell_type": "code",
   "execution_count": 73,
   "metadata": {
    "colab": {
     "base_uri": "https://localhost:8080/"
    },
    "id": "GOr8ah8DyHnU",
    "outputId": "17408aa9-527d-439a-ac2d-0407e1a3b14f"
   },
   "outputs": [
    {
     "name": "stdout",
     "output_type": "stream",
     "text": [
      "Observation with the Highest Residual: Index 113\n",
      "Actual Income: 13.5000\n",
      "Predicted Income: 3.8972\n",
      "Calculated Residual: 9.6028\n"
     ]
    }
   ],
   "source": [
    "# Identifing the index of the observation with the maximum residual\n",
    "max_residual_index = residuals.idxmax()\n",
    "\n",
    "# Retrieving the actual income and predicted income for this observation\n",
    "actual_income = y_train[max_residual_index]\n",
    "predicted_income = y_train_pred[max_residual_index]\n",
    "\n",
    "# Calculating the residual manually to verify the result\n",
    "calculated_residual = actual_income - predicted_income\n",
    "\n",
    "# Print the results\n",
    "print(f\"Observation with the Highest Residual: Index {max_residual_index}\")\n",
    "print(f\"Actual Income: {actual_income:.4f}\")\n",
    "print(f\"Predicted Income: {predicted_income:.4f}\")\n",
    "print(f\"Calculated Residual: {calculated_residual:.4f}\")\n"
   ]
  },
  {
   "cell_type": "markdown",
   "metadata": {
    "id": "cC5n_j4qCw73"
   },
   "source": [
    "***Interpretation***\n",
    "\n",
    "*The positive residual indicates the model underestimated this individual's income by 9.6028 units.*\n",
    "\n",
    "*The model predicted the income to be 3.8972, but the actual value was 13.5000.*"
   ]
  },
  {
   "cell_type": "markdown",
   "metadata": {
    "id": "CZhgbnnf8YQt"
   },
   "source": [
    "**8. Find the observation whose rating generated the lowest (i.e. most negative) residual value.\n",
    "What was that person’s actual income? What did the model predict that it would be?\n",
    "How is the residual calculated from the two numbers that you just found?**"
   ]
  },
  {
   "cell_type": "code",
   "execution_count": 76,
   "metadata": {
    "colab": {
     "base_uri": "https://localhost:8080/"
    },
    "id": "5WvS2hcqyHkh",
    "outputId": "b8a062bd-7b3e-42d4-9b8c-48149f3ea65f"
   },
   "outputs": [
    {
     "name": "stdout",
     "output_type": "stream",
     "text": [
      "Observation with the Lowest Residual: Index 787\n",
      "Actual Income: 1.5000\n",
      "Predicted Income: 4.8433\n",
      "Calculated Residual: -3.3433\n"
     ]
    }
   ],
   "source": [
    "# Identifing the index of the observation with the minimum residual\n",
    "min_residual_index = residuals.idxmin()\n",
    "\n",
    "# Retrieving the actual income and predicted income for this observation\n",
    "actual_income_min = y_train[min_residual_index]\n",
    "predicted_income_min = y_train_pred[min_residual_index]\n",
    "\n",
    "# Calculating the residual manually\n",
    "calculated_residual_min = actual_income_min - predicted_income_min\n",
    "\n",
    "# Print the results\n",
    "print(f\"Observation with the Lowest Residual: Index {min_residual_index}\")\n",
    "print(f\"Actual Income: {actual_income_min:.4f}\")\n",
    "print(f\"Predicted Income: {predicted_income_min:.4f}\")\n",
    "print(f\"Calculated Residual: {calculated_residual_min:.4f}\")"
   ]
  },
  {
   "cell_type": "markdown",
   "metadata": {
    "id": "U9P-SFSJCWP_"
   },
   "source": [
    "***Interpretation***\n",
    "\n",
    "*The negative residual indicates the model overestimated this individual's income by 3.3433 units.*\n",
    "\n",
    "*The model predicted the income to be 4.8433, but the actual value was only 1.5000.*"
   ]
  },
  {
   "cell_type": "markdown",
   "metadata": {
    "id": "1OocBkK7B0Kt"
   },
   "source": [
    "**9. It looks like there are some cases where this model is quite a bit off the mark. Write\n",
    "a few sentences with your thoughts about why dependents might be an okay starting\n",
    "point, but may not perfectly predict a person’s income. (Try to be specific)**"
   ]
  },
  {
   "cell_type": "markdown",
   "metadata": {
    "id": "ku-orfeZEjDI"
   },
   "source": [
    "*While dependents can serve as an initial indicator for income prediction,since larger households often require higher earnings and it does not perfectly predict income.*\n",
    "\n",
    "*The correlation of 0.3169 indicates a weak positive relationship, meaning the number of dependents explains only a small portion of the variability in income.*\n",
    "\n",
    "*The model struggles with ***edge cases***, as seen in these residuals. It underestimated income for the high-income individual and overestimated it for the low-income individual, highlighting the need to include other predictors like age, employment type, or expenditure to better capture income variations.*"
   ]
  },
  {
   "cell_type": "markdown",
   "metadata": {
    "id": "oBz0xs16GMNe"
   },
   "source": [
    "# **Part II: Multiple Linear Regression**\n"
   ]
  },
  {
   "cell_type": "markdown",
   "metadata": {
    "id": "PQin7nMSvdiy"
   },
   "source": [
    "**1. Build a correlation table that depicts the correlations among all of the numerical variables\n",
    "that you might use as predictors (use your training set to build this).**"
   ]
  },
  {
   "cell_type": "code",
   "execution_count": 82,
   "metadata": {
    "id": "dsBBSyYT2GIg"
   },
   "outputs": [],
   "source": [
    "df1 = pd.read_csv(\"C:\\\\Users\\\\prabu\\\\Desktop\\\\AD 699\\\\Assignments\\\\Assignment 2\\\\CreditCard.csv\")"
   ]
  },
  {
   "cell_type": "code",
   "execution_count": 83,
   "metadata": {
    "id": "QOxZIEnZKexY"
   },
   "outputs": [],
   "source": [
    "X1 = df1[['reports','age','share','expenditure','dependents','months','majorcards','active']]\n",
    "y1 = df1['income']\n",
    "\n",
    "# Creating a 60-40 train-test split\n",
    "X1_train, X1_test, y1_train, y1_test = train_test_split(X1, y1, test_size=0.4, random_state=218, shuffle=False)"
   ]
  },
  {
   "cell_type": "code",
   "execution_count": 84,
   "metadata": {
    "colab": {
     "base_uri": "https://localhost:8080/",
     "height": 867
    },
    "id": "bB4mxIk1OfBI",
    "outputId": "4247922a-483c-4475-8592-a8fc425229ae"
   },
   "outputs": [
    {
     "name": "stdout",
     "output_type": "stream",
     "text": [
      "              reports       age     share  expenditure  dependents    months  \\\n",
      "reports      1.000000  0.036465 -0.169491    -0.136519   -0.009711  0.002813   \n",
      "age          0.036465  1.000000 -0.073298     0.060327    0.205628  0.433904   \n",
      "share       -0.169491 -0.073298  1.000000     0.831369   -0.046175 -0.021730   \n",
      "expenditure -0.136519  0.060327  0.831369     1.000000    0.083528  0.020141   \n",
      "dependents  -0.009711  0.205628 -0.046175     0.083528    1.000000  0.077594   \n",
      "months       0.002813  0.433904 -0.021730     0.020141    0.077594  1.000000   \n",
      "majorcards  -0.031413  0.009902  0.077969     0.108817    0.030405 -0.037438   \n",
      "active       0.202346  0.166074  0.019588     0.095448    0.111438  0.126718   \n",
      "\n",
      "             majorcards    active  \n",
      "reports       -0.031413  0.202346  \n",
      "age            0.009902  0.166074  \n",
      "share          0.077969  0.019588  \n",
      "expenditure    0.108817  0.095448  \n",
      "dependents     0.030405  0.111438  \n",
      "months        -0.037438  0.126718  \n",
      "majorcards     1.000000  0.142939  \n",
      "active         0.142939  1.000000  \n"
     ]
    },
    {
     "data": {
      "image/png": "[encoded data removed]",
      "text/plain": [
       "<Figure size 800x500 with 2 Axes>"
      ]
     },
     "metadata": {},
     "output_type": "display_data"
    }
   ],
   "source": [
    "# Correlation matrix for numerical features in the training set\n",
    "correlation_matrix = X1_train.corr()\n",
    "\n",
    "# Displaying the correlation matrix\n",
    "print(correlation_matrix)\n",
    "\n",
    "# Visualizing the correlation matrix using a heatmap\n",
    "plt.figure(figsize=(8, 5))\n",
    "sns.heatmap(correlation_matrix, annot=True, cmap='coolwarm', fmt=\".2f\")\n",
    "plt.title('Correlation Matrix of Numerical Predictors (Training Set)')\n",
    "plt.show()"
   ]
  },
  {
   "cell_type": "markdown",
   "metadata": {
    "id": "0ZKikmicAIsp"
   },
   "source": [
    "**2. Are there any variable relationships that suggest that multicollinearity could be an issue\n",
    "here?**"
   ]
  },
  {
   "cell_type": "markdown",
   "metadata": {
    "id": "P04to6PRPmMp"
   },
   "source": [
    "*Yes, there are variable relationships that suggest potential multicollinearity issues in this dataset.*\n",
    "\n",
    "***High Correlation Between 'share' and 'expenditure' (0.83)***\n",
    "\n",
    "*These two variables are strongly positively correlated, suggesting they provide similar information about spending behavior. Including both might lead to redundancy in the model.*\n",
    "\n",
    "***Moderate Correlation Between 'months' and 'age' (0.43)***\n",
    "\n",
    "*While not as strong as the first pair, this moderate correlation suggests that people with more months at their current address tend to be older, which makes intuitive sense.*\n",
    "\n",
    "***Conclusion:***\n",
    "\n",
    "*The strongest concern here is the correlation between 'share' and 'expenditure'. Removing one of these variables could improve model performance by reducing multicollinearity.*"
   ]
  },
  {
   "cell_type": "markdown",
   "metadata": {
    "id": "C7R0uwA1Pl0U"
   },
   "source": [
    "**3. If so, for any strongly correlated variable pair, remove any variables that should be taken\n",
    "out of the model.**\n",
    "\n",
    "**4. If you removed any, how did you decide which ones to remove? If not, why did you keep\n",
    "the ones that you have left?**\n",
    "\n"
   ]
  },
  {
   "cell_type": "markdown",
   "metadata": {
    "id": "D3ugwmFZP5Gb"
   },
   "source": [
    "***Decision:***\n",
    "\n",
    "*'Expenditure' was removed because 'share' provides a more normalized representation of credit behavior by accounting for income differences across individuals.*\n",
    "\n",
    "***Rationale:***\n",
    "\n",
    "*'Share' is more likely to generalize well across different income levels since it scales expenditure relative to income.*"
   ]
  },
  {
   "cell_type": "markdown",
   "metadata": {
    "id": "ly_HQaEeS8EP"
   },
   "source": [
    "**5. Using backward elimination, build a multiple regression model with the remaining data\n",
    "in your training set, with the goal of predicting the variable income. Start with all of\n",
    "the potential predictors that you have left (if you eliminated any variables in a previous\n",
    "step in this section, don’t bring them back – they’re gone!) [Be sure to use a function\n",
    "for this process, rather than a manual approach]**"
   ]
  },
  {
   "cell_type": "markdown",
   "metadata": {
    "id": "rLc8wMJJXWk_"
   },
   "source": [
    "**1. Show a summary of your resulting multiple linear regression model.**\n"
   ]
  },
  {
   "cell_type": "code",
   "execution_count": 91,
   "metadata": {
    "colab": {
     "base_uri": "https://localhost:8080/"
    },
    "id": "6IHR8BmkOzlG",
    "outputId": "da695d05-5a4f-45d5-a388-df4b6425455a"
   },
   "outputs": [
    {
     "name": "stdout",
     "output_type": "stream",
     "text": [
      "Removing 'months' with p-value: 0.9041\n",
      "Removing 'reports' with p-value: 0.8857\n",
      "Removing 'share' with p-value: 0.8467\n",
      "                            OLS Regression Results                            \n",
      "==============================================================================\n",
      "Dep. Variable:                 income   R-squared:                       0.203\n",
      "Model:                            OLS   Adj. R-squared:                  0.199\n",
      "Method:                 Least Squares   F-statistic:                     50.01\n",
      "Date:                Sun, 16 Feb 2025   Prob (F-statistic):           1.62e-37\n",
      "Time:                        21:52:34   Log-Likelihood:                -1469.5\n",
      "No. Observations:                 791   AIC:                             2949.\n",
      "Df Residuals:                     786   BIC:                             2972.\n",
      "Df Model:                           4                                         \n",
      "Covariance Type:            nonrobust                                         \n",
      "==============================================================================\n",
      "                 coef    std err          t      P>|t|      [0.025      0.975]\n",
      "------------------------------------------------------------------------------\n",
      "const          0.9486      0.222      4.278      0.000       0.513       1.384\n",
      "age            0.0437      0.006      7.683      0.000       0.033       0.055\n",
      "dependents     0.3701      0.049      7.593      0.000       0.274       0.466\n",
      "majorcards     0.5357      0.146      3.677      0.000       0.250       0.822\n",
      "active         0.0333      0.009      3.679      0.000       0.016       0.051\n",
      "==============================================================================\n",
      "Omnibus:                      284.043   Durbin-Watson:                   1.772\n",
      "Prob(Omnibus):                  0.000   Jarque-Bera (JB):             1086.851\n",
      "Skew:                           1.674   Prob(JB):                    9.85e-237\n",
      "Kurtosis:                       7.666   Cond. No.                         151.\n",
      "==============================================================================\n",
      "\n",
      "Notes:\n",
      "[1] Standard Errors assume that the covariance matrix of the errors is correctly specified.\n"
     ]
    }
   ],
   "source": [
    "# Backward elimination function without 'expenditure'\n",
    "\n",
    "def backward_elimination(X1_train, y1_train, significance_level=0.05):\n",
    "    if 'expenditure' in X1_train.columns:\n",
    "        X1_train = X1_train.drop('expenditure', axis=1)\n",
    "\n",
    "    # Add a constant term for the intercept\n",
    "    X1_train = sm.add_constant(X1_train)\n",
    "\n",
    "    while True:\n",
    "        # Fit the model and get p-values\n",
    "        model1 = sm.OLS(y1_train, X1_train).fit()\n",
    "        p_values = model1.pvalues\n",
    "\n",
    "        # Identify the maximum p-value\n",
    "        max_p_value = p_values.max()\n",
    "\n",
    "        # Remove the predictor with the highest p-value if it exceeds the significance level\n",
    "        if max_p_value > significance_level:\n",
    "            worst_feature = p_values.idxmax()\n",
    "            X1_train = X1_train.drop(worst_feature, axis=1)\n",
    "            print(f\"Removing '{worst_feature}' with p-value: {max_p_value:.4f}\")\n",
    "        else:\n",
    "            break\n",
    "\n",
    "    return model1\n",
    "\n",
    "# Runing backward elimination on the training data\n",
    "model1 = backward_elimination(X1_train, y1_train)\n",
    "print(model1.summary())"
   ]
  },
  {
   "cell_type": "markdown",
   "metadata": {
    "id": "FeM8bnqLYkn2"
   },
   "source": [
    "# **Model metrics**"
   ]
  },
  {
   "cell_type": "markdown",
   "metadata": {
    "id": "eH5QnfJRYokV"
   },
   "source": [
    "**1. What is the total sum of squares for your model? (SST). This can be found by summing\n",
    "all of the squared differences from the mean for your outcome variable.**"
   ]
  },
  {
   "cell_type": "code",
   "execution_count": 94,
   "metadata": {
    "colab": {
     "base_uri": "https://localhost:8080/"
    },
    "id": "-1rW2Z_MOzhv",
    "outputId": "4cf1c79c-3b83-473f-b08e-ac69b8608f14"
   },
   "outputs": [
    {
     "name": "stdout",
     "output_type": "stream",
     "text": [
      "SST (Total Sum of Squares): 2386.8919\n"
     ]
    }
   ],
   "source": [
    "# Total Sum of Squares (SST)\n",
    "y1_mean = y1_train.mean()\n",
    "sst = np.sum((y1_train - y1_mean) ** 2)\n",
    "print(f\"SST (Total Sum of Squares): {sst:.4f}\")"
   ]
  },
  {
   "cell_type": "markdown",
   "metadata": {
    "id": "YhsHinJKZELI"
   },
   "source": [
    "**2. What is the total sum of squares due to regression for your model? (SSR). This can be\n",
    "found by summing all the squared differences between the fitted values and the mean for\n",
    "your outcome variable. Do not use any other SSR definition, besides the one listed here\n",
    "in the previous sentence.**"
   ]
  },
  {
   "cell_type": "code",
   "execution_count": 96,
   "metadata": {
    "colab": {
     "base_uri": "https://localhost:8080/"
    },
    "id": "j1kqlef5Ozex",
    "outputId": "167e467a-9126-47e4-d6bf-2d730abedad4"
   },
   "outputs": [
    {
     "name": "stdout",
     "output_type": "stream",
     "text": [
      "SSR (Sum of Squares due to Regression): 484.2191\n"
     ]
    }
   ],
   "source": [
    "# Total Sum of Squares due to Regression (SSR)\n",
    "y1_pred = model1.fittedvalues  # Predicted values from the regression model\n",
    "y1_mean = y1_train.mean()\n",
    "ssr = np.sum((y1_pred - y1_mean) ** 2)\n",
    "\n",
    "print(f\"SSR (Sum of Squares due to Regression): {ssr:.4f}\")"
   ]
  },
  {
   "cell_type": "code",
   "execution_count": 97,
   "metadata": {
    "colab": {
     "base_uri": "https://localhost:8080/"
    },
    "id": "0cJxph8wOzb6",
    "outputId": "06085be4-6e5d-45c3-bf21-f30b73d0d4a5"
   },
   "outputs": [
    {
     "name": "stdout",
     "output_type": "stream",
     "text": [
      "SSR/SST (R-squared): 0.2029\n"
     ]
    }
   ],
   "source": [
    "# The ratio SSR/SST\n",
    "ratio = ssr / sst\n",
    "ratio\n",
    "print(f\"SSR/SST (R-squared): {ratio:.4f}\")"
   ]
  },
  {
   "cell_type": "markdown",
   "metadata": {
    "id": "HMMpNhM7aDZE"
   },
   "source": [
    "**4. Getting from a t-value to a p-value. Choose one of the predictors from your model (it\n",
    "could be a numeric input variable or a single level from a categorical input). What is\n",
    "the t-value for that predictor?**"
   ]
  },
  {
   "cell_type": "code",
   "execution_count": 99,
   "metadata": {
    "colab": {
     "base_uri": "https://localhost:8080/"
    },
    "id": "4uN1VQbXaDB8",
    "outputId": "58505707-8a8b-4b22-ff1f-7aad26dbb528"
   },
   "outputs": [
    {
     "name": "stdout",
     "output_type": "stream",
     "text": [
      "T-value for 'majorcards': 3.6770\n",
      "P-value for 'majorcards': 0.000252\n"
     ]
    }
   ],
   "source": [
    "# Given t-value and degrees of freedom\n",
    "t_value = 3.677\n",
    "df= 791 - 4 - 1   # (since: df=n−k−1)\n",
    "df = 786\n",
    "\n",
    "# Calculating the two-tailed p-value\n",
    "p_value = 2 * (1 - stats.t.cdf(abs(t_value), df))\n",
    "\n",
    "print(f\"T-value for 'majorcards': {t_value:.4f}\")\n",
    "print(f\"P-value for 'majorcards': {p_value:.6f}\")"
   ]
  },
  {
   "cell_type": "markdown",
   "metadata": {
    "id": "oGy6iAmjbucr"
   },
   "source": [
    "**5. What is your model’s F-statistic? What does the F-Statistic measure?**\n"
   ]
  },
  {
   "cell_type": "markdown",
   "metadata": {
    "id": "j6_LxDDccebO"
   },
   "source": [
    "**F-Statistic: 50.01**\n",
    "\n",
    "**p-value: 1 .62e-37** *(very small, suggesting strong evidence against the null hypothesis)*\n",
    "\n",
    "*The F-statistic in a regression model measures whether the independent variables (predictors) as a group have a statistically significant relationship with the dependent variable.*\n",
    "\n",
    "***Null Hypothesis:***\n",
    "\n",
    "*All regression coefficients (except the intercept) are equal to zero — i.e., the predictors have no effect on the dependent variable.*\n",
    "\n",
    "***Alternative Hypothesis:***\n",
    "\n",
    "*At least one predictor variable significantly affects the dependent variables.*\n",
    "\n",
    "*High F-Statistic: Indicates that the model does a better job of explaining the variability in the dependent variable compared to a model with no predictors.*\n",
    "\n",
    "*Low F-Statistic: Suggests that the model does not provide a significant improvement in explaining the outcome compared to a simple mean-based prediction.*\n",
    "\n",
    "**Interpretation:**\n",
    "\n",
    "*Our model explains a significant portion of the variance in income.\n",
    "The predictors together significantly contribute to the model’s explanatory power.*"
   ]
  },
  {
   "cell_type": "markdown",
   "metadata": {
    "id": "oPR92kV_eg1O"
   },
   "source": [
    "**6. Make up a fictional consumer, and assign that person attributes for each variable used\n",
    "in your model. What does your model predict that this person’s income will be? To\n",
    "answer this, you can use a function in Python or just explain it using the equation and\n",
    "some simple math.**"
   ]
  },
  {
   "cell_type": "code",
   "execution_count": 103,
   "metadata": {
    "colab": {
     "base_uri": "https://localhost:8080/"
    },
    "id": "0CiYurSNbNPr",
    "outputId": "40bd9c2c-73f0-4ea7-c61a-061a23dc51bd"
   },
   "outputs": [
    {
     "name": "stdout",
     "output_type": "stream",
     "text": [
      "Predicted Income: $62167.00\n"
     ]
    }
   ],
   "source": [
    "# Predicting income for the fictional consumer:\n",
    "# Coefficients from the model:\n",
    "intercept = 0.9486\n",
    "coefficients = {'age': 0.0437, 'dependents': 0.3701, 'majorcards': 0.5357, 'active': 0.0333}\n",
    "\n",
    "# Consumer's attributes\n",
    "consumer = {'age': 60, 'dependents': 1, 'majorcards': 4, 'active': 4}\n",
    "\n",
    "# Predicted income\n",
    "predicted_income = intercept + sum(consumer[var] * coefficients[var] for var in consumer)\n",
    "\n",
    "print(f\"Predicted Income: ${predicted_income * 10000:.2f}\")\n"
   ]
  },
  {
   "cell_type": "code",
   "execution_count": 104,
   "metadata": {
    "colab": {
     "base_uri": "https://localhost:8080/"
    },
    "id": "DwQ_MLn0bNMG",
    "outputId": "0042be15-fa45-4ac4-93f6-3a4224894620"
   },
   "outputs": [
    {
     "name": "stdout",
     "output_type": "stream",
     "text": [
      "Predicted Income: $62167.00\n"
     ]
    }
   ],
   "source": [
    "# Using the equation and some simple math:\n",
    "# Fictional Consumer:\n",
    "\n",
    "age\t= 60\n",
    "dependents\t= 1\n",
    "majorcards\t= 4\n",
    "active\t= 4\n",
    "\n",
    "y1_pred = (0.9486+(0.0437*age)+(0.3701*dependents)+(0.5357*majorcards)+(0.0333*active)) * 10000\n",
    "\n",
    "print(f\"Predicted Income: ${y1_pred:.2f}\")"
   ]
  },
  {
   "cell_type": "markdown",
   "metadata": {
    "id": "12j9Z3CQ0iw9"
   },
   "source": [
    "**7. Assess the accuracy of your model against both the training set and the validation set.**"
   ]
  },
  {
   "cell_type": "code",
   "execution_count": 106,
   "metadata": {
    "colab": {
     "base_uri": "https://localhost:8080/"
    },
    "id": "VtVpGSbc7P3p",
    "outputId": "c9594282-ff75-4a8b-d984-682f86589a26"
   },
   "outputs": [
    {
     "name": "stdout",
     "output_type": "stream",
     "text": [
      "Training Set Performance:\n",
      "MAE: 1.1010, MSE: 2.4054, RMSE: 1.5509, R²: 0.2029\n",
      "\n",
      "Validation Set Performance:\n",
      "MAE: 1.0558, MSE: 2.2343, RMSE: 1.4948, R²: 0.1531\n"
     ]
    }
   ],
   "source": [
    "# Selecting only the columns that were retained after backward elimination:\n",
    "X1_train_reduced = X1_train[['age', 'dependents', 'majorcards', 'active']]\n",
    "X1_test_reduced = X1_test[['age', 'dependents', 'majorcards', 'active']]\n",
    "\n",
    "# Adding the constant and predict:\n",
    "y1_train_pred = model1.predict(sm.add_constant(X1_train_reduced))\n",
    "y1_test_pred = model1.predict(sm.add_constant(X1_test_reduced))\n",
    "\n",
    "# Metrics for the training set:\n",
    "mae_train = mean_absolute_error(y1_train, y1_train_pred)\n",
    "mse_train = mean_squared_error(y1_train, y1_train_pred)\n",
    "rmse_train = mse_train ** 0.5\n",
    "r2_train = r2_score(y1_train, y1_train_pred)\n",
    "\n",
    "# Metrics for the validation (test) set:\n",
    "mae_test = mean_absolute_error(y1_test, y1_test_pred)\n",
    "mse_test = mean_squared_error(y1_test, y1_test_pred)\n",
    "rmse_test = mse_test ** 0.5\n",
    "r2_test = r2_score(y1_test, y1_test_pred)\n",
    "\n",
    "# Results:\n",
    "print(\"Training Set Performance:\")\n",
    "print(f\"MAE: {mae_train:.4f}, MSE: {mse_train:.4f}, RMSE: {rmse_train:.4f}, R²: {r2_train:.4f}\\n\")\n",
    "\n",
    "print(\"Validation Set Performance:\")\n",
    "print(f\"MAE: {mae_test:.4f}, MSE: {mse_test:.4f}, RMSE: {rmse_test:.4f}, R²: {r2_test:.4f}\")\n"
   ]
  },
  {
   "cell_type": "markdown",
   "metadata": {
    "id": "obz5M8xk0mT8"
   },
   "source": [
    "**1. What do you notice about these results? Describe your findings in a couple of\n",
    "sentences.**"
   ]
  },
  {
   "cell_type": "markdown",
   "metadata": {
    "id": "Q0jsZr0l8Xrf"
   },
   "source": [
    "*The results show that the model performs slightly better on the validation set than on the training set, with lower MAE, MSE, and RMSE values for the validation data. This is unusual because models typically perform better on training data due to overfitting.*\n",
    "\n",
    "*The similar performance across both sets indicates the model might be too simple and lacks sufficient predictive power, as evidenced by the relatively low R² values (0.2029 for training and 0.1531 for validation).*"
   ]
  },
  {
   "cell_type": "markdown",
   "metadata": {
    "id": "Jb6Lw5FX-hOY"
   },
   "source": [
    "**2. In this section, you should talk about the overfitting risk and also about the way\n",
    "your MLR model differed from your SLR model in terms of accuracy.**"
   ]
  },
  {
   "cell_type": "markdown",
   "metadata": {
    "id": "twVwMPiy-hCY"
   },
   "source": [
    "***Overfitting Risk***\n",
    "\n",
    "*Overfitting occurs when a model learns the training data too well, including noise and outliers, and performs poorly on new, unseen data.*\n",
    "\n",
    "*In this case, the training set performance metrics (MAE: 1.1010, MSE: 2.4054, RMSE: 1.5509, R²: 0.2029) are relatively close to the validation set performance metrics (MAE: 1.0558, MSE: 2.2343, RMSE: 1.4948, R²: 0.1531).*\n",
    "\n",
    "*The slight gap between training and validation performance indicates minimal overfitting. The model generalizes reasonably well across both datasets.*\n",
    "\n",
    "***MLR vs. SLR Model Accuracy***\n",
    "\n",
    "*The SLR model used only one predictor, dependents, and achieved an R² of 0.1004.*\n",
    "\n",
    "*The MLR model with predictors age, dependents, majorcards, and active increased the R² to 0.2029, which suggests improved explanatory power when more predictors are added.*\n",
    "\n",
    "*However, the R² is still relatively low, indicating the model only explains about 20.29% of the variation in income, suggesting the predictors may not fully capture the underlying relationship.*"
   ]
  },
  {
   "cell_type": "markdown",
   "metadata": {
    "id": "UJXlBFrR_UDc"
   },
   "source": [
    "**3. Also, as you think about overall model accuracy, identify at least one important\n",
    "limitation of trying to predict income using these available variables.**"
   ]
  },
  {
   "cell_type": "markdown",
   "metadata": {
    "id": "RWvWEm7z_T33"
   },
   "source": [
    "***Limitation of Predicting Income with Available Variables:***\n",
    "\n",
    "*One significant limitation of using the current set of variables to predict income is the lack of direct income determinants. The features available primarily describe demographic and behavioral patterns (e.g., age, dependents, credit usage patterns) but miss some key drivers of income.*\n",
    "\n",
    "***Absence of Key Economic Indicators:***\n",
    "\n",
    "*There is no information about employment type, education level, industry, job tenure, or skills, which are critical factors in determining a person’s income.*\n",
    "\n",
    "***Static Variables for a Dynamic Outcome:***\n",
    "\n",
    "*The dataset only captures a snapshot of credit behavior and demographics. Income, however, can change dynamically with job changes, promotions, and economic conditions, none of which are captured here.*\n",
    "\n",
    "***Potential Non-Linear Relationships:***\n",
    "\n",
    "*The relationship between these predictors and income may not be linear, yet the model assumes linear relationships. For instance, age might have a non-linear impact on income, peaking at mid-career stages and flattening or declining later.*\n",
    "\n",
    "***Credit-Focused Data Bias:***\n",
    "\n",
    "*All predictors relate to credit behavior or demographic factors tied to creditworthiness, which may correlate with income but do not directly explain it. For example, active accounts or major credit cards might reflect credit access but not income level directly.*\n",
    "\n",
    "***Missing Socioeconomic Context:***\n",
    "\n",
    "*Factors like location, cost of living, education, family background, and work history are absent. Two individuals with similar credit profiles might have vastly different incomes based on location or educational background.*"
   ]
  }
 ],
 "metadata": {
  "colab": {
   "provenance": []
  },
  "kernelspec": {
   "display_name": "Python 3",
   "language": "python",
   "name": "python3"
  },
  "language_info": {
   "codemirror_mode": {
    "name": "ipython",
    "version": 3
   },
   "file_extension": ".py",
   "mimetype": "text/x-python",
   "name": "python",
   "nbconvert_exporter": "python",
   "pygments_lexer": "ipython3",
   "version": "3.13.2"
  }
 },
 "nbformat": 4,
 "nbformat_minor": 4
}
